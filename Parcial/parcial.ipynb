{
  "nbformat": 4,
  "nbformat_minor": 0,
  "metadata": {
    "colab": {
      "name": "Untitled2.ipynb",
      "provenance": [],
      "collapsed_sections": []
    },
    "kernelspec": {
      "name": "python3",
      "display_name": "Python 3"
    },
    "widgets": {
      "application/vnd.jupyter.widget-state+json": {
        "a56ef9dbd99b465e90a3fa38acfdb5ba": {
          "model_module": "@jupyter-widgets/controls",
          "model_name": "HBoxModel",
          "state": {
            "_view_name": "HBoxView",
            "_dom_classes": [],
            "_model_name": "HBoxModel",
            "_view_module": "@jupyter-widgets/controls",
            "_model_module_version": "1.5.0",
            "_view_count": null,
            "_view_module_version": "1.5.0",
            "box_style": "",
            "layout": "IPY_MODEL_87fa926c05304edd9aefa538b08845fe",
            "_model_module": "@jupyter-widgets/controls",
            "children": [
              "IPY_MODEL_710b9259058b4923958d5856d3954048",
              "IPY_MODEL_70e870c43c8948faaaf8f21726d514bf"
            ]
          }
        },
        "87fa926c05304edd9aefa538b08845fe": {
          "model_module": "@jupyter-widgets/base",
          "model_name": "LayoutModel",
          "state": {
            "_view_name": "LayoutView",
            "grid_template_rows": null,
            "right": null,
            "justify_content": null,
            "_view_module": "@jupyter-widgets/base",
            "overflow": null,
            "_model_module_version": "1.2.0",
            "_view_count": null,
            "flex_flow": null,
            "width": null,
            "min_width": null,
            "border": null,
            "align_items": null,
            "bottom": null,
            "_model_module": "@jupyter-widgets/base",
            "top": null,
            "grid_column": null,
            "overflow_y": null,
            "overflow_x": null,
            "grid_auto_flow": null,
            "grid_area": null,
            "grid_template_columns": null,
            "flex": null,
            "_model_name": "LayoutModel",
            "justify_items": null,
            "grid_row": null,
            "max_height": null,
            "align_content": null,
            "visibility": null,
            "align_self": null,
            "height": null,
            "min_height": null,
            "padding": null,
            "grid_auto_rows": null,
            "grid_gap": null,
            "max_width": null,
            "order": null,
            "_view_module_version": "1.2.0",
            "grid_template_areas": null,
            "object_position": null,
            "object_fit": null,
            "grid_auto_columns": null,
            "margin": null,
            "display": null,
            "left": null
          }
        },
        "710b9259058b4923958d5856d3954048": {
          "model_module": "@jupyter-widgets/controls",
          "model_name": "FloatProgressModel",
          "state": {
            "_view_name": "ProgressView",
            "style": "IPY_MODEL_35a895e46e6a480aa732bf2e6469b7e2",
            "_dom_classes": [],
            "description": "Summarize dataset: ",
            "_model_name": "FloatProgressModel",
            "bar_style": "success",
            "max": 24,
            "_view_module": "@jupyter-widgets/controls",
            "_model_module_version": "1.5.0",
            "value": 24,
            "_view_count": null,
            "_view_module_version": "1.5.0",
            "orientation": "horizontal",
            "min": 0,
            "description_tooltip": null,
            "_model_module": "@jupyter-widgets/controls",
            "layout": "IPY_MODEL_5f8a7fadc80b4ce080303294acf8ca71"
          }
        },
        "70e870c43c8948faaaf8f21726d514bf": {
          "model_module": "@jupyter-widgets/controls",
          "model_name": "HTMLModel",
          "state": {
            "_view_name": "HTMLView",
            "style": "IPY_MODEL_af78a4833a4049759a55e6638de18b49",
            "_dom_classes": [],
            "description": "",
            "_model_name": "HTMLModel",
            "placeholder": "​",
            "_view_module": "@jupyter-widgets/controls",
            "_model_module_version": "1.5.0",
            "value": " 26/? [00:24&lt;00:00,  1.05it/s, Completed]",
            "_view_count": null,
            "_view_module_version": "1.5.0",
            "description_tooltip": null,
            "_model_module": "@jupyter-widgets/controls",
            "layout": "IPY_MODEL_9d66bf6dab0b492e8cbfc56f6764dfef"
          }
        },
        "35a895e46e6a480aa732bf2e6469b7e2": {
          "model_module": "@jupyter-widgets/controls",
          "model_name": "ProgressStyleModel",
          "state": {
            "_view_name": "StyleView",
            "_model_name": "ProgressStyleModel",
            "description_width": "initial",
            "_view_module": "@jupyter-widgets/base",
            "_model_module_version": "1.5.0",
            "_view_count": null,
            "_view_module_version": "1.2.0",
            "bar_color": null,
            "_model_module": "@jupyter-widgets/controls"
          }
        },
        "5f8a7fadc80b4ce080303294acf8ca71": {
          "model_module": "@jupyter-widgets/base",
          "model_name": "LayoutModel",
          "state": {
            "_view_name": "LayoutView",
            "grid_template_rows": null,
            "right": null,
            "justify_content": null,
            "_view_module": "@jupyter-widgets/base",
            "overflow": null,
            "_model_module_version": "1.2.0",
            "_view_count": null,
            "flex_flow": null,
            "width": null,
            "min_width": null,
            "border": null,
            "align_items": null,
            "bottom": null,
            "_model_module": "@jupyter-widgets/base",
            "top": null,
            "grid_column": null,
            "overflow_y": null,
            "overflow_x": null,
            "grid_auto_flow": null,
            "grid_area": null,
            "grid_template_columns": null,
            "flex": null,
            "_model_name": "LayoutModel",
            "justify_items": null,
            "grid_row": null,
            "max_height": null,
            "align_content": null,
            "visibility": null,
            "align_self": null,
            "height": null,
            "min_height": null,
            "padding": null,
            "grid_auto_rows": null,
            "grid_gap": null,
            "max_width": null,
            "order": null,
            "_view_module_version": "1.2.0",
            "grid_template_areas": null,
            "object_position": null,
            "object_fit": null,
            "grid_auto_columns": null,
            "margin": null,
            "display": null,
            "left": null
          }
        },
        "af78a4833a4049759a55e6638de18b49": {
          "model_module": "@jupyter-widgets/controls",
          "model_name": "DescriptionStyleModel",
          "state": {
            "_view_name": "StyleView",
            "_model_name": "DescriptionStyleModel",
            "description_width": "",
            "_view_module": "@jupyter-widgets/base",
            "_model_module_version": "1.5.0",
            "_view_count": null,
            "_view_module_version": "1.2.0",
            "_model_module": "@jupyter-widgets/controls"
          }
        },
        "9d66bf6dab0b492e8cbfc56f6764dfef": {
          "model_module": "@jupyter-widgets/base",
          "model_name": "LayoutModel",
          "state": {
            "_view_name": "LayoutView",
            "grid_template_rows": null,
            "right": null,
            "justify_content": null,
            "_view_module": "@jupyter-widgets/base",
            "overflow": null,
            "_model_module_version": "1.2.0",
            "_view_count": null,
            "flex_flow": null,
            "width": null,
            "min_width": null,
            "border": null,
            "align_items": null,
            "bottom": null,
            "_model_module": "@jupyter-widgets/base",
            "top": null,
            "grid_column": null,
            "overflow_y": null,
            "overflow_x": null,
            "grid_auto_flow": null,
            "grid_area": null,
            "grid_template_columns": null,
            "flex": null,
            "_model_name": "LayoutModel",
            "justify_items": null,
            "grid_row": null,
            "max_height": null,
            "align_content": null,
            "visibility": null,
            "align_self": null,
            "height": null,
            "min_height": null,
            "padding": null,
            "grid_auto_rows": null,
            "grid_gap": null,
            "max_width": null,
            "order": null,
            "_view_module_version": "1.2.0",
            "grid_template_areas": null,
            "object_position": null,
            "object_fit": null,
            "grid_auto_columns": null,
            "margin": null,
            "display": null,
            "left": null
          }
        },
        "ecbf294f46cd41f1bad4764035d6b5af": {
          "model_module": "@jupyter-widgets/controls",
          "model_name": "HBoxModel",
          "state": {
            "_view_name": "HBoxView",
            "_dom_classes": [],
            "_model_name": "HBoxModel",
            "_view_module": "@jupyter-widgets/controls",
            "_model_module_version": "1.5.0",
            "_view_count": null,
            "_view_module_version": "1.5.0",
            "box_style": "",
            "layout": "IPY_MODEL_e3492e51ca5a4e18adebfc941aa9f118",
            "_model_module": "@jupyter-widgets/controls",
            "children": [
              "IPY_MODEL_720843cb7ec1406fab89ae5a2dc2b410",
              "IPY_MODEL_cdd3308be76f47a4bbb10b9a38ec7a0f"
            ]
          }
        },
        "e3492e51ca5a4e18adebfc941aa9f118": {
          "model_module": "@jupyter-widgets/base",
          "model_name": "LayoutModel",
          "state": {
            "_view_name": "LayoutView",
            "grid_template_rows": null,
            "right": null,
            "justify_content": null,
            "_view_module": "@jupyter-widgets/base",
            "overflow": null,
            "_model_module_version": "1.2.0",
            "_view_count": null,
            "flex_flow": null,
            "width": null,
            "min_width": null,
            "border": null,
            "align_items": null,
            "bottom": null,
            "_model_module": "@jupyter-widgets/base",
            "top": null,
            "grid_column": null,
            "overflow_y": null,
            "overflow_x": null,
            "grid_auto_flow": null,
            "grid_area": null,
            "grid_template_columns": null,
            "flex": null,
            "_model_name": "LayoutModel",
            "justify_items": null,
            "grid_row": null,
            "max_height": null,
            "align_content": null,
            "visibility": null,
            "align_self": null,
            "height": null,
            "min_height": null,
            "padding": null,
            "grid_auto_rows": null,
            "grid_gap": null,
            "max_width": null,
            "order": null,
            "_view_module_version": "1.2.0",
            "grid_template_areas": null,
            "object_position": null,
            "object_fit": null,
            "grid_auto_columns": null,
            "margin": null,
            "display": null,
            "left": null
          }
        },
        "720843cb7ec1406fab89ae5a2dc2b410": {
          "model_module": "@jupyter-widgets/controls",
          "model_name": "FloatProgressModel",
          "state": {
            "_view_name": "ProgressView",
            "style": "IPY_MODEL_2e11ab4e0bb245b8acd2fa9f7d14d634",
            "_dom_classes": [],
            "description": "Generate report structure:   0%",
            "_model_name": "FloatProgressModel",
            "bar_style": "",
            "max": 1,
            "_view_module": "@jupyter-widgets/controls",
            "_model_module_version": "1.5.0",
            "value": 1,
            "_view_count": null,
            "_view_module_version": "1.5.0",
            "orientation": "horizontal",
            "min": 0,
            "description_tooltip": null,
            "_model_module": "@jupyter-widgets/controls",
            "layout": "IPY_MODEL_dc59e7d495da4264af602cb56a71a06a"
          }
        },
        "cdd3308be76f47a4bbb10b9a38ec7a0f": {
          "model_module": "@jupyter-widgets/controls",
          "model_name": "HTMLModel",
          "state": {
            "_view_name": "HTMLView",
            "style": "IPY_MODEL_8334a92fadaa42e9ab1898e4802dbcff",
            "_dom_classes": [],
            "description": "",
            "_model_name": "HTMLModel",
            "placeholder": "​",
            "_view_module": "@jupyter-widgets/controls",
            "_model_module_version": "1.5.0",
            "value": " 0/1 [00:00&lt;?, ?it/s]",
            "_view_count": null,
            "_view_module_version": "1.5.0",
            "description_tooltip": null,
            "_model_module": "@jupyter-widgets/controls",
            "layout": "IPY_MODEL_b0725be85ff74866aee0c5244ccdb07f"
          }
        },
        "2e11ab4e0bb245b8acd2fa9f7d14d634": {
          "model_module": "@jupyter-widgets/controls",
          "model_name": "ProgressStyleModel",
          "state": {
            "_view_name": "StyleView",
            "_model_name": "ProgressStyleModel",
            "description_width": "initial",
            "_view_module": "@jupyter-widgets/base",
            "_model_module_version": "1.5.0",
            "_view_count": null,
            "_view_module_version": "1.2.0",
            "bar_color": null,
            "_model_module": "@jupyter-widgets/controls"
          }
        },
        "dc59e7d495da4264af602cb56a71a06a": {
          "model_module": "@jupyter-widgets/base",
          "model_name": "LayoutModel",
          "state": {
            "_view_name": "LayoutView",
            "grid_template_rows": null,
            "right": null,
            "justify_content": null,
            "_view_module": "@jupyter-widgets/base",
            "overflow": null,
            "_model_module_version": "1.2.0",
            "_view_count": null,
            "flex_flow": null,
            "width": null,
            "min_width": null,
            "border": null,
            "align_items": null,
            "bottom": null,
            "_model_module": "@jupyter-widgets/base",
            "top": null,
            "grid_column": null,
            "overflow_y": null,
            "overflow_x": null,
            "grid_auto_flow": null,
            "grid_area": null,
            "grid_template_columns": null,
            "flex": null,
            "_model_name": "LayoutModel",
            "justify_items": null,
            "grid_row": null,
            "max_height": null,
            "align_content": null,
            "visibility": null,
            "align_self": null,
            "height": null,
            "min_height": null,
            "padding": null,
            "grid_auto_rows": null,
            "grid_gap": null,
            "max_width": null,
            "order": null,
            "_view_module_version": "1.2.0",
            "grid_template_areas": null,
            "object_position": null,
            "object_fit": null,
            "grid_auto_columns": null,
            "margin": null,
            "display": null,
            "left": null
          }
        },
        "8334a92fadaa42e9ab1898e4802dbcff": {
          "model_module": "@jupyter-widgets/controls",
          "model_name": "DescriptionStyleModel",
          "state": {
            "_view_name": "StyleView",
            "_model_name": "DescriptionStyleModel",
            "description_width": "",
            "_view_module": "@jupyter-widgets/base",
            "_model_module_version": "1.5.0",
            "_view_count": null,
            "_view_module_version": "1.2.0",
            "_model_module": "@jupyter-widgets/controls"
          }
        },
        "b0725be85ff74866aee0c5244ccdb07f": {
          "model_module": "@jupyter-widgets/base",
          "model_name": "LayoutModel",
          "state": {
            "_view_name": "LayoutView",
            "grid_template_rows": null,
            "right": null,
            "justify_content": null,
            "_view_module": "@jupyter-widgets/base",
            "overflow": null,
            "_model_module_version": "1.2.0",
            "_view_count": null,
            "flex_flow": null,
            "width": null,
            "min_width": null,
            "border": null,
            "align_items": null,
            "bottom": null,
            "_model_module": "@jupyter-widgets/base",
            "top": null,
            "grid_column": null,
            "overflow_y": null,
            "overflow_x": null,
            "grid_auto_flow": null,
            "grid_area": null,
            "grid_template_columns": null,
            "flex": null,
            "_model_name": "LayoutModel",
            "justify_items": null,
            "grid_row": null,
            "max_height": null,
            "align_content": null,
            "visibility": null,
            "align_self": null,
            "height": null,
            "min_height": null,
            "padding": null,
            "grid_auto_rows": null,
            "grid_gap": null,
            "max_width": null,
            "order": null,
            "_view_module_version": "1.2.0",
            "grid_template_areas": null,
            "object_position": null,
            "object_fit": null,
            "grid_auto_columns": null,
            "margin": null,
            "display": null,
            "left": null
          }
        }
      }
    }
  },
  "cells": [
    {
      "cell_type": "code",
      "metadata": {
        "id": "hkUTsuEfewwC",
        "colab_type": "code",
        "colab": {
          "base_uri": "https://localhost:8080/",
          "height": 1000
        },
        "outputId": "278c24a2-d3dd-4ddd-db9e-dbe304af3d48"
      },
      "source": [
        "!pip install pandas-profiling==2.7.1"
      ],
      "execution_count": 4,
      "outputs": [
        {
          "output_type": "stream",
          "text": [
            "Requirement already satisfied: pandas-profiling==2.7.1 in /usr/local/lib/python3.6/dist-packages (2.7.1)\n",
            "Requirement already satisfied: tangled-up-in-unicode>=0.0.4 in /usr/local/lib/python3.6/dist-packages (from pandas-profiling==2.7.1) (0.0.6)\n",
            "Requirement already satisfied: tqdm>=4.43.0 in /usr/local/lib/python3.6/dist-packages (from pandas-profiling==2.7.1) (4.49.0)\n",
            "Requirement already satisfied: matplotlib>=3.2.0 in /usr/local/lib/python3.6/dist-packages (from pandas-profiling==2.7.1) (3.2.2)\n",
            "Requirement already satisfied: missingno>=0.4.2 in /usr/local/lib/python3.6/dist-packages (from pandas-profiling==2.7.1) (0.4.2)\n",
            "Requirement already satisfied: visions[type_image_path]==0.4.1 in /usr/local/lib/python3.6/dist-packages (from pandas-profiling==2.7.1) (0.4.1)\n",
            "Requirement already satisfied: requests>=2.23.0 in /usr/local/lib/python3.6/dist-packages (from pandas-profiling==2.7.1) (2.23.0)\n",
            "Requirement already satisfied: confuse>=1.0.0 in /usr/local/lib/python3.6/dist-packages (from pandas-profiling==2.7.1) (1.3.0)\n",
            "Requirement already satisfied: scipy>=1.4.1 in /usr/local/lib/python3.6/dist-packages (from pandas-profiling==2.7.1) (1.4.1)\n",
            "Requirement already satisfied: phik>=0.9.10 in /usr/local/lib/python3.6/dist-packages (from pandas-profiling==2.7.1) (0.10.0)\n",
            "Requirement already satisfied: ipywidgets>=7.5.1 in /usr/local/lib/python3.6/dist-packages (from pandas-profiling==2.7.1) (7.5.1)\n",
            "Requirement already satisfied: astropy>=4.0 in /usr/local/lib/python3.6/dist-packages (from pandas-profiling==2.7.1) (4.0.1.post1)\n",
            "Requirement already satisfied: htmlmin>=0.1.12 in /usr/local/lib/python3.6/dist-packages (from pandas-profiling==2.7.1) (0.1.12)\n",
            "Requirement already satisfied: joblib in /usr/local/lib/python3.6/dist-packages (from pandas-profiling==2.7.1) (0.16.0)\n",
            "Requirement already satisfied: pandas!=1.0.0,!=1.0.1,!=1.0.2,>=0.25.3 in /usr/local/lib/python3.6/dist-packages (from pandas-profiling==2.7.1) (1.0.5)\n",
            "Requirement already satisfied: numpy>=1.16.0 in /usr/local/lib/python3.6/dist-packages (from pandas-profiling==2.7.1) (1.18.5)\n",
            "Requirement already satisfied: jinja2>=2.11.1 in /usr/local/lib/python3.6/dist-packages (from pandas-profiling==2.7.1) (2.11.2)\n",
            "Requirement already satisfied: pyparsing!=2.0.4,!=2.1.2,!=2.1.6,>=2.0.1 in /usr/local/lib/python3.6/dist-packages (from matplotlib>=3.2.0->pandas-profiling==2.7.1) (2.4.7)\n",
            "Requirement already satisfied: cycler>=0.10 in /usr/local/lib/python3.6/dist-packages (from matplotlib>=3.2.0->pandas-profiling==2.7.1) (0.10.0)\n",
            "Requirement already satisfied: kiwisolver>=1.0.1 in /usr/local/lib/python3.6/dist-packages (from matplotlib>=3.2.0->pandas-profiling==2.7.1) (1.2.0)\n",
            "Requirement already satisfied: python-dateutil>=2.1 in /usr/local/lib/python3.6/dist-packages (from matplotlib>=3.2.0->pandas-profiling==2.7.1) (2.8.1)\n",
            "Requirement already satisfied: seaborn in /usr/local/lib/python3.6/dist-packages (from missingno>=0.4.2->pandas-profiling==2.7.1) (0.10.1)\n",
            "Requirement already satisfied: networkx>=2.4 in /usr/local/lib/python3.6/dist-packages (from visions[type_image_path]==0.4.1->pandas-profiling==2.7.1) (2.5)\n",
            "Requirement already satisfied: attrs>=19.3.0 in /usr/local/lib/python3.6/dist-packages (from visions[type_image_path]==0.4.1->pandas-profiling==2.7.1) (20.2.0)\n",
            "Requirement already satisfied: imagehash; extra == \"type_image_path\" in /usr/local/lib/python3.6/dist-packages (from visions[type_image_path]==0.4.1->pandas-profiling==2.7.1) (4.1.0)\n",
            "Requirement already satisfied: Pillow; extra == \"type_image_path\" in /usr/local/lib/python3.6/dist-packages (from visions[type_image_path]==0.4.1->pandas-profiling==2.7.1) (7.0.0)\n",
            "Requirement already satisfied: idna<3,>=2.5 in /usr/local/lib/python3.6/dist-packages (from requests>=2.23.0->pandas-profiling==2.7.1) (2.10)\n",
            "Requirement already satisfied: urllib3!=1.25.0,!=1.25.1,<1.26,>=1.21.1 in /usr/local/lib/python3.6/dist-packages (from requests>=2.23.0->pandas-profiling==2.7.1) (1.24.3)\n",
            "Requirement already satisfied: chardet<4,>=3.0.2 in /usr/local/lib/python3.6/dist-packages (from requests>=2.23.0->pandas-profiling==2.7.1) (3.0.4)\n",
            "Requirement already satisfied: certifi>=2017.4.17 in /usr/local/lib/python3.6/dist-packages (from requests>=2.23.0->pandas-profiling==2.7.1) (2020.6.20)\n",
            "Requirement already satisfied: pyyaml in /usr/local/lib/python3.6/dist-packages (from confuse>=1.0.0->pandas-profiling==2.7.1) (3.13)\n",
            "Requirement already satisfied: numba>=0.38.1 in /usr/local/lib/python3.6/dist-packages (from phik>=0.9.10->pandas-profiling==2.7.1) (0.48.0)\n",
            "Requirement already satisfied: nbformat>=4.2.0 in /usr/local/lib/python3.6/dist-packages (from ipywidgets>=7.5.1->pandas-profiling==2.7.1) (5.0.7)\n",
            "Requirement already satisfied: traitlets>=4.3.1 in /usr/local/lib/python3.6/dist-packages (from ipywidgets>=7.5.1->pandas-profiling==2.7.1) (4.3.3)\n",
            "Requirement already satisfied: ipython>=4.0.0; python_version >= \"3.3\" in /usr/local/lib/python3.6/dist-packages (from ipywidgets>=7.5.1->pandas-profiling==2.7.1) (5.5.0)\n",
            "Requirement already satisfied: ipykernel>=4.5.1 in /usr/local/lib/python3.6/dist-packages (from ipywidgets>=7.5.1->pandas-profiling==2.7.1) (4.10.1)\n",
            "Requirement already satisfied: widgetsnbextension~=3.5.0 in /usr/local/lib/python3.6/dist-packages (from ipywidgets>=7.5.1->pandas-profiling==2.7.1) (3.5.1)\n",
            "Requirement already satisfied: pytz>=2017.2 in /usr/local/lib/python3.6/dist-packages (from pandas!=1.0.0,!=1.0.1,!=1.0.2,>=0.25.3->pandas-profiling==2.7.1) (2018.9)\n",
            "Requirement already satisfied: MarkupSafe>=0.23 in /usr/local/lib/python3.6/dist-packages (from jinja2>=2.11.1->pandas-profiling==2.7.1) (1.1.1)\n",
            "Requirement already satisfied: six in /usr/local/lib/python3.6/dist-packages (from cycler>=0.10->matplotlib>=3.2.0->pandas-profiling==2.7.1) (1.15.0)\n",
            "Requirement already satisfied: decorator>=4.3.0 in /usr/local/lib/python3.6/dist-packages (from networkx>=2.4->visions[type_image_path]==0.4.1->pandas-profiling==2.7.1) (4.4.2)\n",
            "Requirement already satisfied: PyWavelets in /usr/local/lib/python3.6/dist-packages (from imagehash; extra == \"type_image_path\"->visions[type_image_path]==0.4.1->pandas-profiling==2.7.1) (1.1.1)\n",
            "Requirement already satisfied: llvmlite<0.32.0,>=0.31.0dev0 in /usr/local/lib/python3.6/dist-packages (from numba>=0.38.1->phik>=0.9.10->pandas-profiling==2.7.1) (0.31.0)\n",
            "Requirement already satisfied: setuptools in /usr/local/lib/python3.6/dist-packages (from numba>=0.38.1->phik>=0.9.10->pandas-profiling==2.7.1) (50.3.0)\n",
            "Requirement already satisfied: jupyter-core in /usr/local/lib/python3.6/dist-packages (from nbformat>=4.2.0->ipywidgets>=7.5.1->pandas-profiling==2.7.1) (4.6.3)\n",
            "Requirement already satisfied: ipython-genutils in /usr/local/lib/python3.6/dist-packages (from nbformat>=4.2.0->ipywidgets>=7.5.1->pandas-profiling==2.7.1) (0.2.0)\n",
            "Requirement already satisfied: jsonschema!=2.5.0,>=2.4 in /usr/local/lib/python3.6/dist-packages (from nbformat>=4.2.0->ipywidgets>=7.5.1->pandas-profiling==2.7.1) (2.6.0)\n",
            "Requirement already satisfied: pygments in /usr/local/lib/python3.6/dist-packages (from ipython>=4.0.0; python_version >= \"3.3\"->ipywidgets>=7.5.1->pandas-profiling==2.7.1) (2.6.1)\n",
            "Requirement already satisfied: simplegeneric>0.8 in /usr/local/lib/python3.6/dist-packages (from ipython>=4.0.0; python_version >= \"3.3\"->ipywidgets>=7.5.1->pandas-profiling==2.7.1) (0.8.1)\n",
            "Requirement already satisfied: prompt-toolkit<2.0.0,>=1.0.4 in /usr/local/lib/python3.6/dist-packages (from ipython>=4.0.0; python_version >= \"3.3\"->ipywidgets>=7.5.1->pandas-profiling==2.7.1) (1.0.18)\n",
            "Requirement already satisfied: pickleshare in /usr/local/lib/python3.6/dist-packages (from ipython>=4.0.0; python_version >= \"3.3\"->ipywidgets>=7.5.1->pandas-profiling==2.7.1) (0.7.5)\n",
            "Requirement already satisfied: pexpect; sys_platform != \"win32\" in /usr/local/lib/python3.6/dist-packages (from ipython>=4.0.0; python_version >= \"3.3\"->ipywidgets>=7.5.1->pandas-profiling==2.7.1) (4.8.0)\n",
            "Requirement already satisfied: tornado>=4.0 in /usr/local/lib/python3.6/dist-packages (from ipykernel>=4.5.1->ipywidgets>=7.5.1->pandas-profiling==2.7.1) (5.1.1)\n",
            "Requirement already satisfied: jupyter-client in /usr/local/lib/python3.6/dist-packages (from ipykernel>=4.5.1->ipywidgets>=7.5.1->pandas-profiling==2.7.1) (5.3.5)\n",
            "Requirement already satisfied: notebook>=4.4.1 in /usr/local/lib/python3.6/dist-packages (from widgetsnbextension~=3.5.0->ipywidgets>=7.5.1->pandas-profiling==2.7.1) (5.3.1)\n",
            "Requirement already satisfied: wcwidth in /usr/local/lib/python3.6/dist-packages (from prompt-toolkit<2.0.0,>=1.0.4->ipython>=4.0.0; python_version >= \"3.3\"->ipywidgets>=7.5.1->pandas-profiling==2.7.1) (0.2.5)\n",
            "Requirement already satisfied: ptyprocess>=0.5 in /usr/local/lib/python3.6/dist-packages (from pexpect; sys_platform != \"win32\"->ipython>=4.0.0; python_version >= \"3.3\"->ipywidgets>=7.5.1->pandas-profiling==2.7.1) (0.6.0)\n",
            "Requirement already satisfied: pyzmq>=13 in /usr/local/lib/python3.6/dist-packages (from jupyter-client->ipykernel>=4.5.1->ipywidgets>=7.5.1->pandas-profiling==2.7.1) (19.0.2)\n",
            "Requirement already satisfied: nbconvert in /usr/local/lib/python3.6/dist-packages (from notebook>=4.4.1->widgetsnbextension~=3.5.0->ipywidgets>=7.5.1->pandas-profiling==2.7.1) (5.6.1)\n",
            "Requirement already satisfied: terminado>=0.8.1 in /usr/local/lib/python3.6/dist-packages (from notebook>=4.4.1->widgetsnbextension~=3.5.0->ipywidgets>=7.5.1->pandas-profiling==2.7.1) (0.8.3)\n",
            "Requirement already satisfied: Send2Trash in /usr/local/lib/python3.6/dist-packages (from notebook>=4.4.1->widgetsnbextension~=3.5.0->ipywidgets>=7.5.1->pandas-profiling==2.7.1) (1.5.0)\n",
            "Requirement already satisfied: pandocfilters>=1.4.1 in /usr/local/lib/python3.6/dist-packages (from nbconvert->notebook>=4.4.1->widgetsnbextension~=3.5.0->ipywidgets>=7.5.1->pandas-profiling==2.7.1) (1.4.2)\n",
            "Requirement already satisfied: bleach in /usr/local/lib/python3.6/dist-packages (from nbconvert->notebook>=4.4.1->widgetsnbextension~=3.5.0->ipywidgets>=7.5.1->pandas-profiling==2.7.1) (3.2.0)\n",
            "Requirement already satisfied: entrypoints>=0.2.2 in /usr/local/lib/python3.6/dist-packages (from nbconvert->notebook>=4.4.1->widgetsnbextension~=3.5.0->ipywidgets>=7.5.1->pandas-profiling==2.7.1) (0.3)\n",
            "Requirement already satisfied: defusedxml in /usr/local/lib/python3.6/dist-packages (from nbconvert->notebook>=4.4.1->widgetsnbextension~=3.5.0->ipywidgets>=7.5.1->pandas-profiling==2.7.1) (0.6.0)\n",
            "Requirement already satisfied: testpath in /usr/local/lib/python3.6/dist-packages (from nbconvert->notebook>=4.4.1->widgetsnbextension~=3.5.0->ipywidgets>=7.5.1->pandas-profiling==2.7.1) (0.4.4)\n",
            "Requirement already satisfied: mistune<2,>=0.8.1 in /usr/local/lib/python3.6/dist-packages (from nbconvert->notebook>=4.4.1->widgetsnbextension~=3.5.0->ipywidgets>=7.5.1->pandas-profiling==2.7.1) (0.8.4)\n",
            "Requirement already satisfied: webencodings in /usr/local/lib/python3.6/dist-packages (from bleach->nbconvert->notebook>=4.4.1->widgetsnbextension~=3.5.0->ipywidgets>=7.5.1->pandas-profiling==2.7.1) (0.5.1)\n",
            "Requirement already satisfied: packaging in /usr/local/lib/python3.6/dist-packages (from bleach->nbconvert->notebook>=4.4.1->widgetsnbextension~=3.5.0->ipywidgets>=7.5.1->pandas-profiling==2.7.1) (20.4)\n"
          ],
          "name": "stdout"
        }
      ]
    },
    {
      "cell_type": "code",
      "metadata": {
        "id": "LDJ9KHWHdUed",
        "colab_type": "code",
        "colab": {
          "base_uri": "https://localhost:8080/",
          "height": 70
        },
        "outputId": "0787d78a-05f7-4fdd-8e15-849d8a9f9419"
      },
      "source": [
        "import os, sys\n",
        "import numpy as np\n",
        "import seaborn as sns\n",
        "import matplotlib.pyplot as plt\n",
        "import pandas as pd\n",
        "import pandas_profiling\n",
        "import scipy.stats  as stats\n",
        "from scipy.stats import chi2\n",
        "from scipy.stats import chi2_contingency"
      ],
      "execution_count": 5,
      "outputs": [
        {
          "output_type": "stream",
          "text": [
            "/usr/local/lib/python3.6/dist-packages/statsmodels/tools/_testing.py:19: FutureWarning: pandas.util.testing is deprecated. Use the functions in the public API at pandas.testing instead.\n",
            "  import pandas.util.testing as tm\n"
          ],
          "name": "stderr"
        }
      ]
    },
    {
      "cell_type": "markdown",
      "metadata": {
        "id": "VyP0-rxYeFyX",
        "colab_type": "text"
      },
      "source": [
        "# 1. Entendimiento del negocio y de los datos \n",
        "\n",
        "\n"
      ]
    },
    {
      "cell_type": "code",
      "metadata": {
        "id": "DPTncbzbeJfa",
        "colab_type": "code",
        "colab": {
          "base_uri": "https://localhost:8080/",
          "height": 420
        },
        "outputId": "a7693743-0efc-4ccb-c151-55d2f958aca3"
      },
      "source": [
        "df = pd.read_excel(\"Datos_parcial2.xlsx\", index_col =\"ID\")\n",
        "df"
      ],
      "execution_count": 6,
      "outputs": [
        {
          "output_type": "execute_result",
          "data": {
            "text/html": [
              "<div>\n",
              "<style scoped>\n",
              "    .dataframe tbody tr th:only-of-type {\n",
              "        vertical-align: middle;\n",
              "    }\n",
              "\n",
              "    .dataframe tbody tr th {\n",
              "        vertical-align: top;\n",
              "    }\n",
              "\n",
              "    .dataframe thead th {\n",
              "        text-align: right;\n",
              "    }\n",
              "</style>\n",
              "<table border=\"1\" class=\"dataframe\">\n",
              "  <thead>\n",
              "    <tr style=\"text-align: right;\">\n",
              "      <th></th>\n",
              "      <th>COD_SAL</th>\n",
              "      <th>VIA</th>\n",
              "      <th>CANTI</th>\n",
              "      <th>PBK</th>\n",
              "      <th>PNK</th>\n",
              "      <th>FOBPES</th>\n",
              "      <th>FOBDOL</th>\n",
              "      <th>FLETES</th>\n",
              "      <th>SEGURO</th>\n",
              "      <th>OTROSG</th>\n",
              "      <th>PAIS</th>\n",
              "    </tr>\n",
              "    <tr>\n",
              "      <th>ID</th>\n",
              "      <th></th>\n",
              "      <th></th>\n",
              "      <th></th>\n",
              "      <th></th>\n",
              "      <th></th>\n",
              "      <th></th>\n",
              "      <th></th>\n",
              "      <th></th>\n",
              "      <th></th>\n",
              "      <th></th>\n",
              "      <th></th>\n",
              "    </tr>\n",
              "  </thead>\n",
              "  <tbody>\n",
              "    <tr>\n",
              "      <th>9087</th>\n",
              "      <td>BOG</td>\n",
              "      <td>4</td>\n",
              "      <td>140.00</td>\n",
              "      <td>0.02660</td>\n",
              "      <td>0.02460</td>\n",
              "      <td>5.038243</td>\n",
              "      <td>1.67604</td>\n",
              "      <td>517.00</td>\n",
              "      <td>0.00</td>\n",
              "      <td>0.00</td>\n",
              "      <td>PAISES BAJOS</td>\n",
              "    </tr>\n",
              "    <tr>\n",
              "      <th>3481</th>\n",
              "      <td>BOG</td>\n",
              "      <td>4</td>\n",
              "      <td>142.00</td>\n",
              "      <td>0.06101</td>\n",
              "      <td>0.05636</td>\n",
              "      <td>4.309442</td>\n",
              "      <td>1.43917</td>\n",
              "      <td>45.24</td>\n",
              "      <td>1.09</td>\n",
              "      <td>0.00</td>\n",
              "      <td>ECUADOR</td>\n",
              "    </tr>\n",
              "    <tr>\n",
              "      <th>9368</th>\n",
              "      <td>BOG</td>\n",
              "      <td>4</td>\n",
              "      <td>1.00</td>\n",
              "      <td>0.00140</td>\n",
              "      <td>0.00100</td>\n",
              "      <td>0.274905</td>\n",
              "      <td>0.09251</td>\n",
              "      <td>0.00</td>\n",
              "      <td>NaN</td>\n",
              "      <td>0.00</td>\n",
              "      <td>PANAMA</td>\n",
              "    </tr>\n",
              "    <tr>\n",
              "      <th>21953</th>\n",
              "      <td>IPI</td>\n",
              "      <td>3</td>\n",
              "      <td>2.00</td>\n",
              "      <td>0.45793</td>\n",
              "      <td>0.39397</td>\n",
              "      <td>38.356037</td>\n",
              "      <td>12.72600</td>\n",
              "      <td>269.54</td>\n",
              "      <td>NaN</td>\n",
              "      <td>89.84</td>\n",
              "      <td>ECUADOR</td>\n",
              "    </tr>\n",
              "    <tr>\n",
              "      <th>14218</th>\n",
              "      <td>BUN</td>\n",
              "      <td>1</td>\n",
              "      <td>5328.00</td>\n",
              "      <td>5.91942</td>\n",
              "      <td>5.32800</td>\n",
              "      <td>17.028346</td>\n",
              "      <td>5.62038</td>\n",
              "      <td>0.00</td>\n",
              "      <td>NaN</td>\n",
              "      <td>0.00</td>\n",
              "      <td>BRASIL</td>\n",
              "    </tr>\n",
              "    <tr>\n",
              "      <th>...</th>\n",
              "      <td>...</td>\n",
              "      <td>...</td>\n",
              "      <td>...</td>\n",
              "      <td>...</td>\n",
              "      <td>...</td>\n",
              "      <td>...</td>\n",
              "      <td>...</td>\n",
              "      <td>...</td>\n",
              "      <td>...</td>\n",
              "      <td>...</td>\n",
              "      <td>...</td>\n",
              "    </tr>\n",
              "    <tr>\n",
              "      <th>17669</th>\n",
              "      <td>BUN</td>\n",
              "      <td>1</td>\n",
              "      <td>610.05</td>\n",
              "      <td>0.61005</td>\n",
              "      <td>0.61005</td>\n",
              "      <td>5.202518</td>\n",
              "      <td>1.72487</td>\n",
              "      <td>0.00</td>\n",
              "      <td>NaN</td>\n",
              "      <td>0.00</td>\n",
              "      <td>PANAMA</td>\n",
              "    </tr>\n",
              "    <tr>\n",
              "      <th>19754</th>\n",
              "      <td>BUN</td>\n",
              "      <td>1</td>\n",
              "      <td>89.00</td>\n",
              "      <td>0.01431</td>\n",
              "      <td>0.01289</td>\n",
              "      <td>2.002604</td>\n",
              "      <td>0.66098</td>\n",
              "      <td>0.00</td>\n",
              "      <td>NaN</td>\n",
              "      <td>0.00</td>\n",
              "      <td>BOLIVIA</td>\n",
              "    </tr>\n",
              "    <tr>\n",
              "      <th>2260</th>\n",
              "      <td>BOG</td>\n",
              "      <td>4</td>\n",
              "      <td>2.00</td>\n",
              "      <td>0.00061</td>\n",
              "      <td>0.00039</td>\n",
              "      <td>0.011849</td>\n",
              "      <td>0.00400</td>\n",
              "      <td>0.00</td>\n",
              "      <td>NaN</td>\n",
              "      <td>0.00</td>\n",
              "      <td>COSTA RICA</td>\n",
              "    </tr>\n",
              "    <tr>\n",
              "      <th>22474</th>\n",
              "      <td>IPI</td>\n",
              "      <td>3</td>\n",
              "      <td>10.00</td>\n",
              "      <td>0.01674</td>\n",
              "      <td>0.01500</td>\n",
              "      <td>0.131346</td>\n",
              "      <td>0.04420</td>\n",
              "      <td>0.00</td>\n",
              "      <td>NaN</td>\n",
              "      <td>0.00</td>\n",
              "      <td>ECUADOR</td>\n",
              "    </tr>\n",
              "    <tr>\n",
              "      <th>18587</th>\n",
              "      <td>BUN</td>\n",
              "      <td>1</td>\n",
              "      <td>33.75</td>\n",
              "      <td>0.00397</td>\n",
              "      <td>0.00388</td>\n",
              "      <td>0.063958</td>\n",
              "      <td>0.02111</td>\n",
              "      <td>0.25</td>\n",
              "      <td>NaN</td>\n",
              "      <td>0.00</td>\n",
              "      <td>PERU</td>\n",
              "    </tr>\n",
              "  </tbody>\n",
              "</table>\n",
              "<p>13926 rows × 11 columns</p>\n",
              "</div>"
            ],
            "text/plain": [
              "      COD_SAL  VIA    CANTI      PBK  ...  FLETES  SEGURO  OTROSG          PAIS\n",
              "ID                                    ...                                      \n",
              "9087      BOG    4   140.00  0.02660  ...  517.00    0.00    0.00  PAISES BAJOS\n",
              "3481      BOG    4   142.00  0.06101  ...   45.24    1.09    0.00       ECUADOR\n",
              "9368      BOG    4     1.00  0.00140  ...    0.00     NaN    0.00        PANAMA\n",
              "21953     IPI    3     2.00  0.45793  ...  269.54     NaN   89.84       ECUADOR\n",
              "14218     BUN    1  5328.00  5.91942  ...    0.00     NaN    0.00        BRASIL\n",
              "...       ...  ...      ...      ...  ...     ...     ...     ...           ...\n",
              "17669     BUN    1   610.05  0.61005  ...    0.00     NaN    0.00        PANAMA\n",
              "19754     BUN    1    89.00  0.01431  ...    0.00     NaN    0.00       BOLIVIA\n",
              "2260      BOG    4     2.00  0.00061  ...    0.00     NaN    0.00    COSTA RICA\n",
              "22474     IPI    3    10.00  0.01674  ...    0.00     NaN    0.00       ECUADOR\n",
              "18587     BUN    1    33.75  0.00397  ...    0.25     NaN    0.00          PERU\n",
              "\n",
              "[13926 rows x 11 columns]"
            ]
          },
          "metadata": {
            "tags": []
          },
          "execution_count": 6
        }
      ]
    },
    {
      "cell_type": "code",
      "metadata": {
        "id": "u87VGVCOef0K",
        "colab_type": "code",
        "colab": {
          "base_uri": "https://localhost:8080/",
          "height": 97,
          "referenced_widgets": [
            "a56ef9dbd99b465e90a3fa38acfdb5ba",
            "87fa926c05304edd9aefa538b08845fe",
            "710b9259058b4923958d5856d3954048",
            "70e870c43c8948faaaf8f21726d514bf",
            "35a895e46e6a480aa732bf2e6469b7e2",
            "5f8a7fadc80b4ce080303294acf8ca71",
            "af78a4833a4049759a55e6638de18b49",
            "9d66bf6dab0b492e8cbfc56f6764dfef",
            "ecbf294f46cd41f1bad4764035d6b5af",
            "e3492e51ca5a4e18adebfc941aa9f118",
            "720843cb7ec1406fab89ae5a2dc2b410",
            "cdd3308be76f47a4bbb10b9a38ec7a0f",
            "2e11ab4e0bb245b8acd2fa9f7d14d634",
            "dc59e7d495da4264af602cb56a71a06a",
            "8334a92fadaa42e9ab1898e4802dbcff",
            "b0725be85ff74866aee0c5244ccdb07f"
          ]
        },
        "outputId": "6b559083-246f-43f2-f5c8-fe42cd107b89"
      },
      "source": [
        "pandas_profiling.ProfileReport(df)"
      ],
      "execution_count": null,
      "outputs": [
        {
          "output_type": "display_data",
          "data": {
            "application/vnd.jupyter.widget-view+json": {
              "model_id": "a56ef9dbd99b465e90a3fa38acfdb5ba",
              "version_minor": 0,
              "version_major": 2
            },
            "text/plain": [
              "HBox(children=(FloatProgress(value=0.0, description='Summarize dataset', max=24.0, style=ProgressStyle(descrip…"
            ]
          },
          "metadata": {
            "tags": []
          }
        },
        {
          "output_type": "stream",
          "text": [
            "\n"
          ],
          "name": "stdout"
        },
        {
          "output_type": "display_data",
          "data": {
            "application/vnd.jupyter.widget-view+json": {
              "model_id": "ecbf294f46cd41f1bad4764035d6b5af",
              "version_minor": 0,
              "version_major": 2
            },
            "text/plain": [
              "HBox(children=(FloatProgress(value=0.0, description='Generate report structure', max=1.0, style=ProgressStyle(…"
            ]
          },
          "metadata": {
            "tags": []
          }
        }
      ]
    },
    {
      "cell_type": "markdown",
      "metadata": {
        "id": "78EoO_nKgM3h",
        "colab_type": "text"
      },
      "source": [
        "## Describa el resultado del perfilamiento de datos e indique el tipo de cada variable.\n",
        "Revisando el perfilamiento de datos se puede evidenciar que el 1.4% de las filas son duplicadas, dadas las variables considero que se deberían remover pues es bastante improbable que se presenten tales coincidencias dadas las unidades de las variables como Peso bruto y Peso neto de la mercancía, columnas como _OTROSG_ y _SEGURO_ cuentan con registros nulos que, de acuerdo al diccionario y la frecuencia de los valores presentes en estas variables puede deberse a valores no marcados como 0. Asimismo, se encontró que variables como _FLETES_ y las previamente mencionadas _SEGURO_ y _OTROSG_ cuentan con gran cantidad de valores 0 superior al 70%\n"
      ]
    },
    {
      "cell_type": "code",
      "metadata": {
        "id": "83m40TK2mS3P",
        "colab_type": "code",
        "colab": {}
      },
      "source": [
        "for columna in df.columns:\n",
        "  print(columna)\n",
        "  print(df[columna].unique(), len(df[columna].unique()))"
      ],
      "execution_count": null,
      "outputs": []
    },
    {
      "cell_type": "markdown",
      "metadata": {
        "id": "TbcJx9KJnhXO",
        "colab_type": "text"
      },
      "source": [
        "Vemos que para variables como _COD_SAL_ y _VIA_ hay menos valores que los posibles mencionados en el diccionario y que sin embargo son posibles. También vemos que para la variable PAIS hay más valores posibles que los mencionados en el diccionario por lo que es mejor removerlos pues no son esperados. También es posible ver que el tipo de la variable _CANTI_ no corresponde al esperado pues debería ser una variable discreta y además presenta valores ireales que serán especificados más adelante."
      ]
    },
    {
      "cell_type": "code",
      "metadata": {
        "id": "rUiM5TZ74juK",
        "colab_type": "code",
        "colab": {}
      },
      "source": [
        "df.dtypes"
      ],
      "execution_count": null,
      "outputs": []
    },
    {
      "cell_type": "markdown",
      "metadata": {
        "id": "qXIJ5rDjl_l6",
        "colab_type": "text"
      },
      "source": [
        "## Describa el entendimiento que tiene del negocio a partir de los datos suministrados. \n",
        "\n",
        "Los datos están relacionados con exportaciones realizadas en Colombia en el mes de Diciembre en un año específico. \n",
        "En el dataset hay 9 variables numéricas y 3 categóricas que describen una exportación.\n",
        "* ID\tID de la exportación\n",
        "* COD_SAL Lugar de donde sale la mercancía.\n",
        "* VIA Vía de transporte.\n",
        "* CANTI Número de unidades del producto exportado\n",
        "* PBK Peso bruto de la mercancía (En Kilos)\n",
        "* PNK Peso neto de la mercancía (En Kilos)\n",
        "* FOBDOL Valor total de la mercancía (en miles de dólares)\n",
        "* FOBPES Valor total de la mercancía (en millones de pesos)\n",
        "* FLETES Valor fletes de la mercancía (En pesos)\n",
        "* SEGURO Valor asociado a seguros de la mercancía\n",
        "* OTROSG Otros gastos de la mercancía\n",
        "* PAIS País destino de la mercancía exportada"
      ]
    },
    {
      "cell_type": "markdown",
      "metadata": {
        "id": "aHvZUJBtmCze",
        "colab_type": "text"
      },
      "source": [
        "# 2. Análisis y propuestas accionables."
      ]
    },
    {
      "cell_type": "markdown",
      "metadata": {
        "id": "hDTD3eHhmFvX",
        "colab_type": "text"
      },
      "source": [
        "## Hipótesis de interés.\n",
        "1. La ubicación del lugar de dónde sale la mercancía está relacionada con el país de destino, entre más adentro geográficamente se encuentre el lugar de salida, más cerca se encuentra el país de destino.\n",
        "2. El peso bruto está relacionado de manera directa con el valor total de la mercancía en millones de pesos, entre más pesada sea la mercancía, más va a costar.\n",
        "3. El valor de otros gastos de la mercancía está relacionado con la vía de transporte usada para la exportación, entre menos común sea mayor va a ser el valor de los otros gastos.\n",
        "4. El número de unidades del producto exportado está relacionado con la ubicación del lugar de dónde sale la mercancía, entre más costera sea la ubicación del lugar de dónde sale la mercancía más unidades se van a exportar"
      ]
    },
    {
      "cell_type": "markdown",
      "metadata": {
        "id": "gtq3JP1fqp8F",
        "colab_type": "text"
      },
      "source": [
        "### Hipótesis 1\n",
        "La ubicación del lugar de dónde sale la mercancía está relacionada con el país de destino, entre más adentro geográficamente se encuentre el lugar de salida, más cerca se encuentra el país de destino."
      ]
    },
    {
      "cell_type": "code",
      "metadata": {
        "id": "yg78aorHqs1M",
        "colab_type": "code",
        "colab": {}
      },
      "source": [
        "df2 = df.groupby(['PAIS', 'COD_SAL'])['PAIS'].count().unstack('COD_SAL').fillna(0)\n",
        "ax = df2.plot(kind='bar', stacked=True,figsize=(15,15))\n",
        "NUM_COLORS = 20\n",
        "\n",
        "cm = plt.get_cmap('gist_rainbow')\n",
        "ax.set_title(\"Cantidad de exportaciones por país de destino y región de salida\")"
      ],
      "execution_count": null,
      "outputs": []
    },
    {
      "cell_type": "markdown",
      "metadata": {
        "id": "JcNJVUmX5NaI",
        "colab_type": "text"
      },
      "source": [
        "Podemos ver que hay regiones como CTG o BUN que participan activamente en algunas exportaciones mientras que en otras no lo que podría ayudarnos a dar una idea de la validez de la hipótesis"
      ]
    },
    {
      "cell_type": "markdown",
      "metadata": {
        "id": "jFfyRtK_sKap",
        "colab_type": "text"
      },
      "source": [
        "### Hipótesis 2\n",
        "El peso bruto está relacionado de manera directa con el valor total de la mercancía en millones de pesos, entre más pesada sea la mercancía, más va a costar."
      ]
    },
    {
      "cell_type": "code",
      "metadata": {
        "id": "-laA1m7-sNjI",
        "colab_type": "code",
        "colab": {}
      },
      "source": [
        "df.plot.scatter(x='FOBPES', y='PBK')"
      ],
      "execution_count": null,
      "outputs": []
    },
    {
      "cell_type": "markdown",
      "metadata": {
        "id": "jSD_b8ys7Cq_",
        "colab_type": "text"
      },
      "source": [
        "Acá podemos ver que hay una especie de relación lineal entre el peso bruto y el valor total de la mercancía en millones de pesos"
      ]
    },
    {
      "cell_type": "markdown",
      "metadata": {
        "id": "A4nlrOxmssFO",
        "colab_type": "text"
      },
      "source": [
        "### Hipótesis 3.\n",
        "El valor de otros gastos de la mercancía está relacionado con la vía de transporte usada para la exportación, entre menos común sea mayor va a ser el valor de los otros gastos.\n"
      ]
    },
    {
      "cell_type": "code",
      "metadata": {
        "id": "nET67mBWs7iL",
        "colab_type": "code",
        "colab": {}
      },
      "source": [
        "sns.violinplot(\"VIA\",\"OTROSG\",data=df)"
      ],
      "execution_count": null,
      "outputs": []
    },
    {
      "cell_type": "markdown",
      "metadata": {
        "id": "eULyxec6s5XD",
        "colab_type": "text"
      },
      "source": [
        "### Hipótesis 4.\n",
        "El número de unidades del producto exportado está relacionado con la ubicación del lugar de dónde sale la mercancía, entre más costera sea la ubicación del lugar de dónde sale la mercancía más unidades se van a exportar"
      ]
    },
    {
      "cell_type": "code",
      "metadata": {
        "id": "KuTtrmPus7IY",
        "colab_type": "code",
        "colab": {}
      },
      "source": [
        "ax = df.groupby(\"COD_SAL\")[\"CANTI\"].count().plot(kind=\"bar\")\n",
        "ax.set_ylabel(\"CANTIDAD\")"
      ],
      "execution_count": null,
      "outputs": []
    },
    {
      "cell_type": "markdown",
      "metadata": {
        "id": "WqHYx_L87VJN",
        "colab_type": "text"
      },
      "source": [
        "Acá podemos ver que hay algunas regiones de salida que tienen una gran cantidad de exportaciones y entre ellas hay presentes varias costeras como Cartagena."
      ]
    },
    {
      "cell_type": "markdown",
      "metadata": {
        "id": "X52d4wimuJLk",
        "colab_type": "text"
      },
      "source": [
        "## Problemas de calidad de los datos que puedan afectar los análisis propuestos en las hipótesis \n",
        "\n",
        "La cantidad de valores nulos mencionada previamente podría afectar. Sin embargo, dado el bajo porcentaje su impacto al eliminarlas sería leve por lo que es lo que haré, también sería conveniente validar con un experto en el negocio la razón de estos. Asimismo, los valores duplicados como se mencionó previamente no puede afectar notablemente los análisis propuestos en las hipótesis pues su porcentaje es poco y considero que a pesar de lo anterior y dadas las unidades de las variables las probabilidades de presencia de estas coincidencias son nulas por lo que es mejor eliminarlas. \n",
        "Todas las variables corresponden exactamente a la realidad planteada en el diciconario de datos, a excepción de las variables\n",
        "* PAIS que cuenta con 4 registros fuera de los mencionados en el diccionario.\n",
        "* PBK que cuenta con valores en 0\n",
        "* CANTI que cuenta con valores decimales"
      ]
    },
    {
      "cell_type": "markdown",
      "metadata": {
        "id": "rygr7ClOu2e-",
        "colab_type": "text"
      },
      "source": [
        "## Ajustes sobre los datos"
      ]
    },
    {
      "cell_type": "markdown",
      "metadata": {
        "id": "mrJAqYZWvKpb",
        "colab_type": "text"
      },
      "source": [
        "Inicialmente se eliminarán las filas que en la variable país contengan a alguno de los países no especificados en el diccionario\n",
        "\n",
        "También se eliminarán las filas que contengan en la variable PBK el valor de 0 y que en canti cuenten con valores decimales y se cambiará el tipo a Int.\n"
      ]
    },
    {
      "cell_type": "code",
      "metadata": {
        "id": "Y2RoOog5wWl4",
        "colab_type": "code",
        "colab": {}
      },
      "source": [
        "aRemov = [\"BRASIL\",\"HONDURAS\",\"VENEZUELA\",\"REINO UNIDO\"] \n",
        "for a in aRemov:\n",
        "  df = df[df.PAIS!=a]\n",
        "print(df.PAIS.unique(),len(df.PAIS.unique()))"
      ],
      "execution_count": null,
      "outputs": []
    },
    {
      "cell_type": "code",
      "metadata": {
        "id": "zGqfe96gwZMr",
        "colab_type": "code",
        "colab": {}
      },
      "source": [
        "df = df[df[\"PBK\"]>0]\n",
        "df = df[df[\"CANTI\"]%1==0]\n",
        "df[\"CANTI\"] = df[\"CANTI\"].astype(int)"
      ],
      "execution_count": null,
      "outputs": []
    },
    {
      "cell_type": "code",
      "metadata": {
        "id": "LVzLHoW40kka",
        "colab_type": "code",
        "colab": {}
      },
      "source": [
        "df = df.drop_duplicates()"
      ],
      "execution_count": null,
      "outputs": []
    },
    {
      "cell_type": "markdown",
      "metadata": {
        "id": "_tVtIwLAw-Ex",
        "colab_type": "text"
      },
      "source": [
        "## Validación de hipótesis planteadas"
      ]
    },
    {
      "cell_type": "markdown",
      "metadata": {
        "id": "MhIkCN2KxHMR",
        "colab_type": "text"
      },
      "source": [
        "### Hipótesis 1\n",
        "La ubicación del lugar de dónde sale la mercancía está relacionada con el país de destino, entre más adentro geográficamente se encuentre el lugar de salida, más cerca se encuentra el país de destino."
      ]
    },
    {
      "cell_type": "code",
      "metadata": {
        "id": "H2MmTFdLzFAb",
        "colab_type": "code",
        "colab": {}
      },
      "source": [
        "print(df[\"COD_SAL\"].unique())"
      ],
      "execution_count": null,
      "outputs": []
    },
    {
      "cell_type": "code",
      "metadata": {
        "id": "77TgWoDqxMWU",
        "colab_type": "code",
        "colab": {}
      },
      "source": [
        "def freq_relativFil(col,df):\n",
        "  Tabla = pd.crosstab(index=df[col],columns=df[\"COD_SAL\"],margins=True)\n",
        "  cols = list(Tabla.columns)\n",
        "  cols[-1] = \"Total_\"+col\n",
        "  Tabla.columns = cols\n",
        "  idxs = list(Tabla.index)\n",
        "  idxs[-1] = \"Total_y\"\n",
        "  Tabla.index = idxs\n",
        "  return Tabla.div(Tabla[\"Total_\"+col], axis=0)\n",
        "\n",
        "Tabla = freq_relativFil('PAIS',df)\n",
        "Tabla\n",
        "\n",
        "ax = (Tabla[df[\"COD_SAL\"].unique()]).plot(kind='bar',figsize=(15,15),width = 0.8,edgecolor=None, stacked=True)\n",
        "plt.legend(labels=Tabla.columns,fontsize= 14)\n",
        "plt.title(\"% de exportaciones a cada destino por región de origen\",fontsize= 16)\n",
        "\n",
        "plt.xticks(fontsize=14, rotation=90)\n",
        "for spine in plt.gca().spines.values():\n",
        "    spine.set_visible(False)\n",
        "plt.yticks([])\n",
        "\n",
        "# Add this loop to add the annotations\n",
        "for p in ax.patches:\n",
        "    width, height = p.get_width(), p.get_height()\n",
        "    x, y = p.get_xy() \n",
        "    ax.annotate('{:.0%}'.format(height), (x, y + height + 0.01))"
      ],
      "execution_count": null,
      "outputs": []
    },
    {
      "cell_type": "code",
      "metadata": {
        "id": "ghGullbUyivu",
        "colab_type": "code",
        "colab": {}
      },
      "source": [
        "def contingencia(col,df):\n",
        "  Tabla = pd.crosstab(index=df[col],columns=df[\"COD_SAL\"])\n",
        "  return Tabla\n",
        "\n",
        "def chiquad(Tabla, prob = 0.95):\n",
        "  estadistico, p_value, grados_libertad, freq_esperadas = chi2_contingency(Tabla)\n",
        "  print(f\"El estadístico de prueba es {estadistico}, el p_value es {p_value}, los grados de libertad {grados_libertad} y las frecuencias esperadas son:\\n {freq_esperadas}\")\n",
        "  print(\"Interpretando p_value con probabilidad del {}%\".format(prob*100))\n",
        "  alpha = 1.0 - prob\n",
        "  if p_value <= alpha:\n",
        "    print('Dependientes (Se rechaza H0)')\n",
        "  else:\n",
        "    print('No son dependientes (No se puede rechazar H0)')\n",
        "  print(\"Interpretando estadístico de prueba con probabilidad del {0}% y {1} grados de libertad\".format(prob*100,grados_libertad))\n",
        "  # interpret test-statistic\n",
        "  critical = chi2.ppf(prob, grados_libertad)\n",
        "  if abs(estadistico) >= critical:\n",
        "    print('Dependientes (Se rechaza H0)')\n",
        "  else:\n",
        "    print('No son dependientes (No se puede rechazar H0)')\n",
        "Tabla = contingencia(\"PAIS\",df)\n",
        "Tabla"
      ],
      "execution_count": null,
      "outputs": []
    },
    {
      "cell_type": "code",
      "metadata": {
        "id": "-CyFQNCs7yrg",
        "colab_type": "code",
        "colab": {}
      },
      "source": [
        "chiquad(Tabla)"
      ],
      "execution_count": null,
      "outputs": []
    },
    {
      "cell_type": "markdown",
      "metadata": {
        "id": "2pTtEfVM72FY",
        "colab_type": "text"
      },
      "source": [
        "Las variables COD_SAL y PAIS están relacionadas.\n",
        "\n"
      ]
    },
    {
      "cell_type": "markdown",
      "metadata": {
        "id": "Y-0H9dz5ys74",
        "colab_type": "text"
      },
      "source": [
        "## Hipótesis 2\n",
        "El peso bruto está relacionado de manera directa con el valor total de la mercancía en millones de pesos, entre más pesada sea la mercancía, más va a costar."
      ]
    },
    {
      "cell_type": "code",
      "metadata": {
        "id": "pTG2gRSLzkvk",
        "colab_type": "code",
        "colab": {}
      },
      "source": [
        "sns.jointplot(\"FOBPES\",\"PBK\",data=df)"
      ],
      "execution_count": null,
      "outputs": []
    },
    {
      "cell_type": "code",
      "metadata": {
        "id": "MN973edQ1Q7k",
        "colab_type": "code",
        "colab": {}
      },
      "source": [
        "df[[\"FOBPES\",\"PBK\"]].corr(method=\"pearson\")"
      ],
      "execution_count": null,
      "outputs": []
    },
    {
      "cell_type": "code",
      "metadata": {
        "id": "gCVZU8Gv1mNA",
        "colab_type": "code",
        "colab": {}
      },
      "source": [
        "df[[\"FOBPES\",\"PBK\"]].corr(method=\"spearman\")"
      ],
      "execution_count": null,
      "outputs": []
    },
    {
      "cell_type": "markdown",
      "metadata": {
        "id": "RldmmMSH8GRz",
        "colab_type": "text"
      },
      "source": [
        "Dado que las variables no están distribuidas normalmente la correlación de Pearson no es la adecuada para determinar qué tan correlacionadas están. Sin embargo está la correlación de Spearman que sirve para determinar y nos indica que hay un 72.8% de correlación entre estas variables"
      ]
    },
    {
      "cell_type": "markdown",
      "metadata": {
        "id": "kRGlZvP92QlA",
        "colab_type": "text"
      },
      "source": [
        "# Impacto en la ley de protección de datos\n",
        "De acuerdo a los fines del DANE no hay restricciones legales con los datos pues no presentan información sensible y se encuentran a disposición del público para su uso. Sin embargo, hay que ser responsable con los resultados que se obtengan y su publicación."
      ]
    }
  ]
}