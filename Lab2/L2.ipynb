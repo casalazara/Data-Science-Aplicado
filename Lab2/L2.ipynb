{
  "nbformat": 4,
  "nbformat_minor": 0,
  "metadata": {
    "kernelspec": {
      "display_name": "Python 3",
      "language": "python",
      "name": "python3"
    },
    "colab": {
      "name": "L2.ipynb",
      "provenance": [],
      "toc_visible": true,
      "include_colab_link": true
    }
  },
  "cells": [
    {
      "cell_type": "markdown",
      "metadata": {
        "id": "view-in-github",
        "colab_type": "text"
      },
      "source": [
        "<a href=\"https://colab.research.google.com/github/casalazara/Data-Science-Aplicado/blob/master/Lab2/L2.ipynb\" target=\"_parent\"><img src=\"https://colab.research.google.com/assets/colab-badge.svg\" alt=\"Open In Colab\"/></a>"
      ]
    },
    {
      "cell_type": "code",
      "metadata": {
        "id": "7PQwG5PrKkgd",
        "colab_type": "code",
        "colab": {
          "base_uri": "https://localhost:8080/",
          "height": 121
        },
        "outputId": "dab74c05-1503-491f-fea3-656189d3a763"
      },
      "source": [
        "!pip install pyreadstat"
      ],
      "execution_count": 1,
      "outputs": [
        {
          "output_type": "stream",
          "text": [
            "Requirement already satisfied: pyreadstat in /usr/local/lib/python3.6/dist-packages (1.0.1)\n",
            "Requirement already satisfied: pandas>0.24.0 in /usr/local/lib/python3.6/dist-packages (from pyreadstat) (1.0.5)\n",
            "Requirement already satisfied: pytz>=2017.2 in /usr/local/lib/python3.6/dist-packages (from pandas>0.24.0->pyreadstat) (2018.9)\n",
            "Requirement already satisfied: numpy>=1.13.3 in /usr/local/lib/python3.6/dist-packages (from pandas>0.24.0->pyreadstat) (1.18.5)\n",
            "Requirement already satisfied: python-dateutil>=2.6.1 in /usr/local/lib/python3.6/dist-packages (from pandas>0.24.0->pyreadstat) (2.8.1)\n",
            "Requirement already satisfied: six>=1.5 in /usr/local/lib/python3.6/dist-packages (from python-dateutil>=2.6.1->pandas>0.24.0->pyreadstat) (1.15.0)\n"
          ],
          "name": "stdout"
        }
      ]
    },
    {
      "cell_type": "code",
      "metadata": {
        "id": "8b4mCsDxKZ1s",
        "colab_type": "code",
        "colab": {}
      },
      "source": [
        "# Importante librerias o modulos que se van a usar en esta sesion\n",
        "import os, sys\n",
        "import numpy as np\n",
        "import pandas as pd\n",
        "import pandas_profiling \n",
        "\n",
        "##Librerías para graficar\n",
        "import matplotlib\n",
        "matplotlib.style.use('ggplot')\n",
        "from matplotlib import pyplot as plt"
      ],
      "execution_count": 2,
      "outputs": []
    },
    {
      "cell_type": "markdown",
      "metadata": {
        "id": "E2nRDQEEKZ1w",
        "colab_type": "text"
      },
      "source": [
        "# Lectura de los datos"
      ]
    },
    {
      "cell_type": "code",
      "metadata": {
        "scrolled": true,
        "id": "wW4PX5a4KZ1x",
        "colab_type": "code",
        "colab": {}
      },
      "source": [
        "condiVida = pd.read_spss('B.sav')\n",
        "fuerTrabajo = pd.read_spss('H.sav')"
      ],
      "execution_count": 3,
      "outputs": []
    },
    {
      "cell_type": "code",
      "metadata": {
        "scrolled": true,
        "id": "MbbLrnKPKZ10",
        "colab_type": "code",
        "colab": {
          "base_uri": "https://localhost:8080/",
          "height": 202
        },
        "outputId": "6028d39e-b720-4478-ec72-4810cd4840e7"
      },
      "source": [
        "condiVida.head()"
      ],
      "execution_count": 4,
      "outputs": [
        {
          "output_type": "execute_result",
          "data": {
            "text/html": [
              "<div>\n",
              "<style scoped>\n",
              "    .dataframe tbody tr th:only-of-type {\n",
              "        vertical-align: middle;\n",
              "    }\n",
              "\n",
              "    .dataframe tbody tr th {\n",
              "        vertical-align: top;\n",
              "    }\n",
              "\n",
              "    .dataframe thead th {\n",
              "        text-align: right;\n",
              "    }\n",
              "</style>\n",
              "<table border=\"1\" class=\"dataframe\">\n",
              "  <thead>\n",
              "    <tr style=\"text-align: right;\">\n",
              "      <th></th>\n",
              "      <th>DIRECTORIO</th>\n",
              "      <th>FEX_C</th>\n",
              "      <th>REGION</th>\n",
              "      <th>DIA_REFERENCIA_2</th>\n",
              "      <th>clase</th>\n",
              "      <th>P424</th>\n",
              "      <th>P4030S1</th>\n",
              "      <th>P4030S1A1</th>\n",
              "      <th>P4030S5</th>\n",
              "      <th>P4030S3</th>\n",
              "      <th>P4030S4</th>\n",
              "      <th>P4030S4A1</th>\n",
              "      <th>P4030S2</th>\n",
              "      <th>P4020</th>\n",
              "    </tr>\n",
              "  </thead>\n",
              "  <tbody>\n",
              "    <tr>\n",
              "      <th>0</th>\n",
              "      <td>2915591.0</td>\n",
              "      <td>463.993402</td>\n",
              "      <td>Central</td>\n",
              "      <td>Domingo</td>\n",
              "      <td>Cabecera</td>\n",
              "      <td>Casa</td>\n",
              "      <td>Sí</td>\n",
              "      <td>3.0</td>\n",
              "      <td>Sí</td>\n",
              "      <td>Sí</td>\n",
              "      <td>Sí</td>\n",
              "      <td>3.0</td>\n",
              "      <td>Sí</td>\n",
              "      <td>Cemento, gravilla</td>\n",
              "    </tr>\n",
              "    <tr>\n",
              "      <th>1</th>\n",
              "      <td>2915592.0</td>\n",
              "      <td>93.084381</td>\n",
              "      <td>Pacífica</td>\n",
              "      <td>Miércoles</td>\n",
              "      <td>Cabecera</td>\n",
              "      <td>Casa</td>\n",
              "      <td>Sí</td>\n",
              "      <td>1.0</td>\n",
              "      <td>No</td>\n",
              "      <td>No</td>\n",
              "      <td>Sí</td>\n",
              "      <td>3.0</td>\n",
              "      <td>No</td>\n",
              "      <td>Baldosa, cerámica, laminado</td>\n",
              "    </tr>\n",
              "    <tr>\n",
              "      <th>2</th>\n",
              "      <td>2915593.0</td>\n",
              "      <td>516.279638</td>\n",
              "      <td>Central</td>\n",
              "      <td>Domingo</td>\n",
              "      <td>Cabecera</td>\n",
              "      <td>Casa</td>\n",
              "      <td>Sí</td>\n",
              "      <td>1.0</td>\n",
              "      <td>Sí</td>\n",
              "      <td>Sí</td>\n",
              "      <td>Sí</td>\n",
              "      <td>3.0</td>\n",
              "      <td>Sí</td>\n",
              "      <td>Baldosa, cerámica, laminado</td>\n",
              "    </tr>\n",
              "    <tr>\n",
              "      <th>3</th>\n",
              "      <td>2915594.0</td>\n",
              "      <td>655.671443</td>\n",
              "      <td>Central</td>\n",
              "      <td>Domingo</td>\n",
              "      <td>Cabecera</td>\n",
              "      <td>Apartamento</td>\n",
              "      <td>Sí</td>\n",
              "      <td>1.0</td>\n",
              "      <td>Sí</td>\n",
              "      <td>Sí</td>\n",
              "      <td>Sí</td>\n",
              "      <td>3.0</td>\n",
              "      <td>Sí</td>\n",
              "      <td>Cemento, gravilla</td>\n",
              "    </tr>\n",
              "    <tr>\n",
              "      <th>4</th>\n",
              "      <td>2915595.0</td>\n",
              "      <td>326.783507</td>\n",
              "      <td>Central</td>\n",
              "      <td>Lunes</td>\n",
              "      <td>Cabecera</td>\n",
              "      <td>Apartamento</td>\n",
              "      <td>Sí</td>\n",
              "      <td>1.0</td>\n",
              "      <td>Sí</td>\n",
              "      <td>Sí</td>\n",
              "      <td>Sí</td>\n",
              "      <td>3.0</td>\n",
              "      <td>Sí</td>\n",
              "      <td>Baldosa, cerámica, laminado</td>\n",
              "    </tr>\n",
              "  </tbody>\n",
              "</table>\n",
              "</div>"
            ],
            "text/plain": [
              "   DIRECTORIO       FEX_C  ... P4030S2                        P4020\n",
              "0   2915591.0  463.993402  ...      Sí            Cemento, gravilla\n",
              "1   2915592.0   93.084381  ...      No  Baldosa, cerámica, laminado\n",
              "2   2915593.0  516.279638  ...      Sí  Baldosa, cerámica, laminado\n",
              "3   2915594.0  655.671443  ...      Sí            Cemento, gravilla\n",
              "4   2915595.0  326.783507  ...      Sí  Baldosa, cerámica, laminado\n",
              "\n",
              "[5 rows x 14 columns]"
            ]
          },
          "metadata": {
            "tags": []
          },
          "execution_count": 4
        }
      ]
    },
    {
      "cell_type": "code",
      "metadata": {
        "id": "xOtu2GdhKZ15",
        "colab_type": "code",
        "colab": {
          "base_uri": "https://localhost:8080/",
          "height": 202
        },
        "outputId": "d18e9806-b739-4650-e360-919c650adf4f"
      },
      "source": [
        "fuerTrabajo.head()"
      ],
      "execution_count": 5,
      "outputs": [
        {
          "output_type": "execute_result",
          "data": {
            "text/html": [
              "<div>\n",
              "<style scoped>\n",
              "    .dataframe tbody tr th:only-of-type {\n",
              "        vertical-align: middle;\n",
              "    }\n",
              "\n",
              "    .dataframe tbody tr th {\n",
              "        vertical-align: top;\n",
              "    }\n",
              "\n",
              "    .dataframe thead th {\n",
              "        text-align: right;\n",
              "    }\n",
              "</style>\n",
              "<table border=\"1\" class=\"dataframe\">\n",
              "  <thead>\n",
              "    <tr style=\"text-align: right;\">\n",
              "      <th></th>\n",
              "      <th>DIRECTORIO</th>\n",
              "      <th>SECUENCIA_P</th>\n",
              "      <th>ORDEN</th>\n",
              "      <th>P1152</th>\n",
              "      <th>P5953</th>\n",
              "      <th>P6260</th>\n",
              "      <th>P8340</th>\n",
              "      <th>P6280</th>\n",
              "      <th>P6290</th>\n",
              "      <th>P6300</th>\n",
              "      <th>P6310</th>\n",
              "      <th>P7310</th>\n",
              "      <th>P6330</th>\n",
              "      <th>P6340</th>\n",
              "      <th>P6350</th>\n",
              "      <th>P6351</th>\n",
              "    </tr>\n",
              "  </thead>\n",
              "  <tbody>\n",
              "    <tr>\n",
              "      <th>0</th>\n",
              "      <td>2915591.0</td>\n",
              "      <td>1.0</td>\n",
              "      <td>1.0</td>\n",
              "      <td>Trabajando.</td>\n",
              "      <td>NaN</td>\n",
              "      <td>NaN</td>\n",
              "      <td>NaN</td>\n",
              "      <td>NaN</td>\n",
              "      <td>NaN</td>\n",
              "      <td>NaN</td>\n",
              "      <td>NaN</td>\n",
              "      <td>NaN</td>\n",
              "      <td>NaN</td>\n",
              "      <td>NaN</td>\n",
              "      <td>NaN</td>\n",
              "      <td>NaN</td>\n",
              "    </tr>\n",
              "    <tr>\n",
              "      <th>1</th>\n",
              "      <td>2915592.0</td>\n",
              "      <td>1.0</td>\n",
              "      <td>1.0</td>\n",
              "      <td>Trabajando.</td>\n",
              "      <td>NaN</td>\n",
              "      <td>NaN</td>\n",
              "      <td>NaN</td>\n",
              "      <td>NaN</td>\n",
              "      <td>NaN</td>\n",
              "      <td>NaN</td>\n",
              "      <td>NaN</td>\n",
              "      <td>NaN</td>\n",
              "      <td>NaN</td>\n",
              "      <td>NaN</td>\n",
              "      <td>NaN</td>\n",
              "      <td>NaN</td>\n",
              "    </tr>\n",
              "    <tr>\n",
              "      <th>2</th>\n",
              "      <td>2915593.0</td>\n",
              "      <td>1.0</td>\n",
              "      <td>1.0</td>\n",
              "      <td>Trabajando.</td>\n",
              "      <td>NaN</td>\n",
              "      <td>NaN</td>\n",
              "      <td>NaN</td>\n",
              "      <td>NaN</td>\n",
              "      <td>NaN</td>\n",
              "      <td>NaN</td>\n",
              "      <td>NaN</td>\n",
              "      <td>NaN</td>\n",
              "      <td>NaN</td>\n",
              "      <td>NaN</td>\n",
              "      <td>NaN</td>\n",
              "      <td>NaN</td>\n",
              "    </tr>\n",
              "    <tr>\n",
              "      <th>3</th>\n",
              "      <td>2915593.0</td>\n",
              "      <td>1.0</td>\n",
              "      <td>2.0</td>\n",
              "      <td>Estudiando.</td>\n",
              "      <td>No.</td>\n",
              "      <td>No.</td>\n",
              "      <td>No.</td>\n",
              "      <td>No.</td>\n",
              "      <td>NaN</td>\n",
              "      <td>No.</td>\n",
              "      <td>NaN</td>\n",
              "      <td>NaN</td>\n",
              "      <td>NaN</td>\n",
              "      <td>NaN</td>\n",
              "      <td>NaN</td>\n",
              "      <td>NaN</td>\n",
              "    </tr>\n",
              "    <tr>\n",
              "      <th>4</th>\n",
              "      <td>2915594.0</td>\n",
              "      <td>1.0</td>\n",
              "      <td>1.0</td>\n",
              "      <td>Trabajando.</td>\n",
              "      <td>NaN</td>\n",
              "      <td>NaN</td>\n",
              "      <td>NaN</td>\n",
              "      <td>NaN</td>\n",
              "      <td>NaN</td>\n",
              "      <td>NaN</td>\n",
              "      <td>NaN</td>\n",
              "      <td>NaN</td>\n",
              "      <td>NaN</td>\n",
              "      <td>NaN</td>\n",
              "      <td>NaN</td>\n",
              "      <td>NaN</td>\n",
              "    </tr>\n",
              "  </tbody>\n",
              "</table>\n",
              "</div>"
            ],
            "text/plain": [
              "   DIRECTORIO  SECUENCIA_P  ORDEN        P1152  ... P6330 P6340 P6350 P6351\n",
              "0   2915591.0          1.0    1.0  Trabajando.  ...   NaN   NaN   NaN   NaN\n",
              "1   2915592.0          1.0    1.0  Trabajando.  ...   NaN   NaN   NaN   NaN\n",
              "2   2915593.0          1.0    1.0  Trabajando.  ...   NaN   NaN   NaN   NaN\n",
              "3   2915593.0          1.0    2.0  Estudiando.  ...   NaN   NaN   NaN   NaN\n",
              "4   2915594.0          1.0    1.0  Trabajando.  ...   NaN   NaN   NaN   NaN\n",
              "\n",
              "[5 rows x 16 columns]"
            ]
          },
          "metadata": {
            "tags": []
          },
          "execution_count": 5
        }
      ]
    },
    {
      "cell_type": "markdown",
      "metadata": {
        "id": "XY7IA-JxKZ18",
        "colab_type": "text"
      },
      "source": [
        "# B. CONDICIONES DE LA VIVIENDA"
      ]
    },
    {
      "cell_type": "markdown",
      "metadata": {
        "id": "TEIpT8h0KZ18",
        "colab_type": "text"
      },
      "source": [
        "## Análisis del tipo de variables"
      ]
    },
    {
      "cell_type": "code",
      "metadata": {
        "scrolled": true,
        "id": "gEEE71WEKZ19",
        "colab_type": "code",
        "colab": {
          "base_uri": "https://localhost:8080/",
          "height": 277
        },
        "outputId": "77f69598-32d9-4020-89fe-5232f5cc4ba9"
      },
      "source": [
        "condiVida.dtypes"
      ],
      "execution_count": 6,
      "outputs": [
        {
          "output_type": "execute_result",
          "data": {
            "text/plain": [
              "DIRECTORIO           float64\n",
              "FEX_C                float64\n",
              "REGION              category\n",
              "DIA_REFERENCIA_2    category\n",
              "clase               category\n",
              "P424                category\n",
              "P4030S1             category\n",
              "P4030S1A1            float64\n",
              "P4030S5             category\n",
              "P4030S3             category\n",
              "P4030S4             category\n",
              "P4030S4A1            float64\n",
              "P4030S2             category\n",
              "P4020               category\n",
              "dtype: object"
            ]
          },
          "metadata": {
            "tags": []
          },
          "execution_count": 6
        }
      ]
    },
    {
      "cell_type": "markdown",
      "metadata": {
        "id": "TQZBRAehKZ2A",
        "colab_type": "text"
      },
      "source": [
        "De acuerdo a la descripción de variables en la página, las columnas P4030S1A1 y P4030S4A1 son las únicas variables numéricas discretas, las demás son continuas. Sin embargo, estas columnas cuentan con valores no numéricos que se deben reemplazar por lo que antes de cambiar el tipo hay que decidir qué hacer con ellos."
      ]
    },
    {
      "cell_type": "code",
      "metadata": {
        "id": "V1N_GIIfKZ2A",
        "colab_type": "code",
        "colab": {}
      },
      "source": [
        "def cambiara_int(condiVida):\n",
        "    condiVida[\"P4030S1A1\"]=condiVida[\"P4030S1A1\"].astype(int)\n",
        "    condiVida[\"P4030S4A1\"]=condiVida[\"P4030S4A1\"].astype(int)"
      ],
      "execution_count": 7,
      "outputs": []
    },
    {
      "cell_type": "markdown",
      "metadata": {
        "id": "2j8hIe87KZ2E",
        "colab_type": "text"
      },
      "source": [
        "## Datos duplicados"
      ]
    },
    {
      "cell_type": "code",
      "metadata": {
        "id": "7cpCpPwfKZ2F",
        "colab_type": "code",
        "colab": {
          "base_uri": "https://localhost:8080/",
          "height": 66
        },
        "outputId": "e83edc97-af5b-4565-e3ff-ed96215a7c75"
      },
      "source": [
        "duplicados = condiVida.duplicated().sum()\n",
        "print(duplicados)\n",
        "condiVida[condiVida.duplicated()]"
      ],
      "execution_count": 8,
      "outputs": [
        {
          "output_type": "stream",
          "text": [
            "0\n"
          ],
          "name": "stdout"
        },
        {
          "output_type": "execute_result",
          "data": {
            "text/html": [
              "<div>\n",
              "<style scoped>\n",
              "    .dataframe tbody tr th:only-of-type {\n",
              "        vertical-align: middle;\n",
              "    }\n",
              "\n",
              "    .dataframe tbody tr th {\n",
              "        vertical-align: top;\n",
              "    }\n",
              "\n",
              "    .dataframe thead th {\n",
              "        text-align: right;\n",
              "    }\n",
              "</style>\n",
              "<table border=\"1\" class=\"dataframe\">\n",
              "  <thead>\n",
              "    <tr style=\"text-align: right;\">\n",
              "      <th></th>\n",
              "      <th>DIRECTORIO</th>\n",
              "      <th>FEX_C</th>\n",
              "      <th>REGION</th>\n",
              "      <th>DIA_REFERENCIA_2</th>\n",
              "      <th>clase</th>\n",
              "      <th>P424</th>\n",
              "      <th>P4030S1</th>\n",
              "      <th>P4030S1A1</th>\n",
              "      <th>P4030S5</th>\n",
              "      <th>P4030S3</th>\n",
              "      <th>P4030S4</th>\n",
              "      <th>P4030S4A1</th>\n",
              "      <th>P4030S2</th>\n",
              "      <th>P4020</th>\n",
              "    </tr>\n",
              "  </thead>\n",
              "  <tbody>\n",
              "  </tbody>\n",
              "</table>\n",
              "</div>"
            ],
            "text/plain": [
              "Empty DataFrame\n",
              "Columns: [DIRECTORIO, FEX_C, REGION, DIA_REFERENCIA_2, clase, P424, P4030S1, P4030S1A1, P4030S5, P4030S3, P4030S4, P4030S4A1, P4030S2, P4020]\n",
              "Index: []"
            ]
          },
          "metadata": {
            "tags": []
          },
          "execution_count": 8
        }
      ]
    },
    {
      "cell_type": "markdown",
      "metadata": {
        "id": "Kb-bdwXdKZ2K",
        "colab_type": "text"
      },
      "source": [
        "## Datos faltantes"
      ]
    },
    {
      "cell_type": "code",
      "metadata": {
        "id": "5BdWZZA2KZ2L",
        "colab_type": "code",
        "colab": {}
      },
      "source": [
        "def missing_values_table(df): \n",
        "        mis_val = df.isnull().sum()\n",
        "        mis_val_percent = 100 * df.isnull().sum()/len(df)\n",
        "        mis_val_table = pd.concat([mis_val, mis_val_percent], axis=1)\n",
        "        mis_val_table_ren_columns = mis_val_table.rename(\n",
        "        columns = {0 : 'Missing Values', 1 : '% of Total Values'})\n",
        "        return mis_val_table_ren_columns "
      ],
      "execution_count": 9,
      "outputs": []
    },
    {
      "cell_type": "code",
      "metadata": {
        "id": "TFkJA8_lKZ2P",
        "colab_type": "code",
        "colab": {
          "base_uri": "https://localhost:8080/",
          "height": 478
        },
        "outputId": "fd535365-3bb2-491e-b280-539aa26680c7"
      },
      "source": [
        "missing_values_table(condiVida)"
      ],
      "execution_count": 10,
      "outputs": [
        {
          "output_type": "execute_result",
          "data": {
            "text/html": [
              "<div>\n",
              "<style scoped>\n",
              "    .dataframe tbody tr th:only-of-type {\n",
              "        vertical-align: middle;\n",
              "    }\n",
              "\n",
              "    .dataframe tbody tr th {\n",
              "        vertical-align: top;\n",
              "    }\n",
              "\n",
              "    .dataframe thead th {\n",
              "        text-align: right;\n",
              "    }\n",
              "</style>\n",
              "<table border=\"1\" class=\"dataframe\">\n",
              "  <thead>\n",
              "    <tr style=\"text-align: right;\">\n",
              "      <th></th>\n",
              "      <th>Missing Values</th>\n",
              "      <th>% of Total Values</th>\n",
              "    </tr>\n",
              "  </thead>\n",
              "  <tbody>\n",
              "    <tr>\n",
              "      <th>DIRECTORIO</th>\n",
              "      <td>0</td>\n",
              "      <td>0.000000</td>\n",
              "    </tr>\n",
              "    <tr>\n",
              "      <th>FEX_C</th>\n",
              "      <td>0</td>\n",
              "      <td>0.000000</td>\n",
              "    </tr>\n",
              "    <tr>\n",
              "      <th>REGION</th>\n",
              "      <td>0</td>\n",
              "      <td>0.000000</td>\n",
              "    </tr>\n",
              "    <tr>\n",
              "      <th>DIA_REFERENCIA_2</th>\n",
              "      <td>0</td>\n",
              "      <td>0.000000</td>\n",
              "    </tr>\n",
              "    <tr>\n",
              "      <th>clase</th>\n",
              "      <td>0</td>\n",
              "      <td>0.000000</td>\n",
              "    </tr>\n",
              "    <tr>\n",
              "      <th>P424</th>\n",
              "      <td>0</td>\n",
              "      <td>0.000000</td>\n",
              "    </tr>\n",
              "    <tr>\n",
              "      <th>P4030S1</th>\n",
              "      <td>0</td>\n",
              "      <td>0.000000</td>\n",
              "    </tr>\n",
              "    <tr>\n",
              "      <th>P4030S1A1</th>\n",
              "      <td>872</td>\n",
              "      <td>2.062197</td>\n",
              "    </tr>\n",
              "    <tr>\n",
              "      <th>P4030S5</th>\n",
              "      <td>0</td>\n",
              "      <td>0.000000</td>\n",
              "    </tr>\n",
              "    <tr>\n",
              "      <th>P4030S3</th>\n",
              "      <td>0</td>\n",
              "      <td>0.000000</td>\n",
              "    </tr>\n",
              "    <tr>\n",
              "      <th>P4030S4</th>\n",
              "      <td>0</td>\n",
              "      <td>0.000000</td>\n",
              "    </tr>\n",
              "    <tr>\n",
              "      <th>P4030S4A1</th>\n",
              "      <td>7267</td>\n",
              "      <td>17.185763</td>\n",
              "    </tr>\n",
              "    <tr>\n",
              "      <th>P4030S2</th>\n",
              "      <td>0</td>\n",
              "      <td>0.000000</td>\n",
              "    </tr>\n",
              "    <tr>\n",
              "      <th>P4020</th>\n",
              "      <td>0</td>\n",
              "      <td>0.000000</td>\n",
              "    </tr>\n",
              "  </tbody>\n",
              "</table>\n",
              "</div>"
            ],
            "text/plain": [
              "                  Missing Values  % of Total Values\n",
              "DIRECTORIO                     0           0.000000\n",
              "FEX_C                          0           0.000000\n",
              "REGION                         0           0.000000\n",
              "DIA_REFERENCIA_2               0           0.000000\n",
              "clase                          0           0.000000\n",
              "P424                           0           0.000000\n",
              "P4030S1                        0           0.000000\n",
              "P4030S1A1                    872           2.062197\n",
              "P4030S5                        0           0.000000\n",
              "P4030S3                        0           0.000000\n",
              "P4030S4                        0           0.000000\n",
              "P4030S4A1                   7267          17.185763\n",
              "P4030S2                        0           0.000000\n",
              "P4020                          0           0.000000"
            ]
          },
          "metadata": {
            "tags": []
          },
          "execution_count": 10
        }
      ]
    },
    {
      "cell_type": "markdown",
      "metadata": {
        "id": "Uphn-dAMKZ2R",
        "colab_type": "text"
      },
      "source": [
        "La mayoría de columnas no tienen valores nulos. Sin embargo, las columnas P4030S1A1 y P4030S4A1 cuentan con valores nulos, la columna P4030S4A1 corresponde de acuerdo al diccionario a el número de días por semana que se realiza la recolección de basuras"
      ]
    },
    {
      "cell_type": "code",
      "metadata": {
        "scrolled": true,
        "id": "NnlpkZM3KZ2S",
        "colab_type": "code",
        "colab": {
          "base_uri": "https://localhost:8080/",
          "height": 34
        },
        "outputId": "90ade7f2-897c-47ce-abd1-4e033edf3383"
      },
      "source": [
        "(condiVida['P4030S4A1'].value_counts()*100/len(condiVida)).plot(kind='bar')\n"
      ],
      "execution_count": 11,
      "outputs": [
        {
          "output_type": "execute_result",
          "data": {
            "text/plain": [
              "<matplotlib.axes._subplots.AxesSubplot at 0x7f7488d579e8>"
            ]
          },
          "metadata": {
            "tags": []
          },
          "execution_count": 11
        }
      ]
    },
    {
      "cell_type": "markdown",
      "metadata": {
        "id": "8RLr2IcWKZ2Y",
        "colab_type": "text"
      },
      "source": [
        "Mientras que la columna P4030S1A1 corresponde al estrato para la tarifa de la energía eléctrica"
      ]
    },
    {
      "cell_type": "code",
      "metadata": {
        "id": "X7s9drZgKZ2Z",
        "colab_type": "code",
        "colab": {
          "base_uri": "https://localhost:8080/",
          "height": 34
        },
        "outputId": "543b52a9-ba31-4503-f244-73710b589778"
      },
      "source": [
        "(condiVida['P4030S1A1'].value_counts()*100/len(condiVida)).plot(kind='bar')"
      ],
      "execution_count": 12,
      "outputs": [
        {
          "output_type": "execute_result",
          "data": {
            "text/plain": [
              "<matplotlib.axes._subplots.AxesSubplot at 0x7f7488d579e8>"
            ]
          },
          "metadata": {
            "tags": []
          },
          "execution_count": 12
        }
      ]
    },
    {
      "cell_type": "markdown",
      "metadata": {
        "id": "lxtmwdycKZ2c",
        "colab_type": "text"
      },
      "source": [
        "Para la columna P4030S1A1 dada la baja cantidad de filas con este valor nulo y la importancia del estrato socioeconómico para los análisis lo mejor es eliminar estas filas, para la columna P4030S4A1 dada la distribución de valores lo mejor sería reemplazar los valores faltantes con la moda (3.0)"
      ]
    },
    {
      "cell_type": "code",
      "metadata": {
        "id": "1_tketK9KZ2c",
        "colab_type": "code",
        "colab": {
          "base_uri": "https://localhost:8080/",
          "height": 478
        },
        "outputId": "09bb36fa-634f-4dd2-80e4-950476b3b17e"
      },
      "source": [
        "condiVida.dropna(axis=0, subset=['P4030S1A1'],inplace=True)\n",
        "condiVida['P4030S4A1'] = condiVida['P4030S4A1'].fillna(condiVida['P4030S4A1'].mode()[0])\n",
        "missing_values_table(condiVida)"
      ],
      "execution_count": 13,
      "outputs": [
        {
          "output_type": "execute_result",
          "data": {
            "text/html": [
              "<div>\n",
              "<style scoped>\n",
              "    .dataframe tbody tr th:only-of-type {\n",
              "        vertical-align: middle;\n",
              "    }\n",
              "\n",
              "    .dataframe tbody tr th {\n",
              "        vertical-align: top;\n",
              "    }\n",
              "\n",
              "    .dataframe thead th {\n",
              "        text-align: right;\n",
              "    }\n",
              "</style>\n",
              "<table border=\"1\" class=\"dataframe\">\n",
              "  <thead>\n",
              "    <tr style=\"text-align: right;\">\n",
              "      <th></th>\n",
              "      <th>Missing Values</th>\n",
              "      <th>% of Total Values</th>\n",
              "    </tr>\n",
              "  </thead>\n",
              "  <tbody>\n",
              "    <tr>\n",
              "      <th>DIRECTORIO</th>\n",
              "      <td>0</td>\n",
              "      <td>0.0</td>\n",
              "    </tr>\n",
              "    <tr>\n",
              "      <th>FEX_C</th>\n",
              "      <td>0</td>\n",
              "      <td>0.0</td>\n",
              "    </tr>\n",
              "    <tr>\n",
              "      <th>REGION</th>\n",
              "      <td>0</td>\n",
              "      <td>0.0</td>\n",
              "    </tr>\n",
              "    <tr>\n",
              "      <th>DIA_REFERENCIA_2</th>\n",
              "      <td>0</td>\n",
              "      <td>0.0</td>\n",
              "    </tr>\n",
              "    <tr>\n",
              "      <th>clase</th>\n",
              "      <td>0</td>\n",
              "      <td>0.0</td>\n",
              "    </tr>\n",
              "    <tr>\n",
              "      <th>P424</th>\n",
              "      <td>0</td>\n",
              "      <td>0.0</td>\n",
              "    </tr>\n",
              "    <tr>\n",
              "      <th>P4030S1</th>\n",
              "      <td>0</td>\n",
              "      <td>0.0</td>\n",
              "    </tr>\n",
              "    <tr>\n",
              "      <th>P4030S1A1</th>\n",
              "      <td>0</td>\n",
              "      <td>0.0</td>\n",
              "    </tr>\n",
              "    <tr>\n",
              "      <th>P4030S5</th>\n",
              "      <td>0</td>\n",
              "      <td>0.0</td>\n",
              "    </tr>\n",
              "    <tr>\n",
              "      <th>P4030S3</th>\n",
              "      <td>0</td>\n",
              "      <td>0.0</td>\n",
              "    </tr>\n",
              "    <tr>\n",
              "      <th>P4030S4</th>\n",
              "      <td>0</td>\n",
              "      <td>0.0</td>\n",
              "    </tr>\n",
              "    <tr>\n",
              "      <th>P4030S4A1</th>\n",
              "      <td>0</td>\n",
              "      <td>0.0</td>\n",
              "    </tr>\n",
              "    <tr>\n",
              "      <th>P4030S2</th>\n",
              "      <td>0</td>\n",
              "      <td>0.0</td>\n",
              "    </tr>\n",
              "    <tr>\n",
              "      <th>P4020</th>\n",
              "      <td>0</td>\n",
              "      <td>0.0</td>\n",
              "    </tr>\n",
              "  </tbody>\n",
              "</table>\n",
              "</div>"
            ],
            "text/plain": [
              "                  Missing Values  % of Total Values\n",
              "DIRECTORIO                     0                0.0\n",
              "FEX_C                          0                0.0\n",
              "REGION                         0                0.0\n",
              "DIA_REFERENCIA_2               0                0.0\n",
              "clase                          0                0.0\n",
              "P424                           0                0.0\n",
              "P4030S1                        0                0.0\n",
              "P4030S1A1                      0                0.0\n",
              "P4030S5                        0                0.0\n",
              "P4030S3                        0                0.0\n",
              "P4030S4                        0                0.0\n",
              "P4030S4A1                      0                0.0\n",
              "P4030S2                        0                0.0\n",
              "P4020                          0                0.0"
            ]
          },
          "metadata": {
            "tags": []
          },
          "execution_count": 13
        }
      ]
    },
    {
      "cell_type": "code",
      "metadata": {
        "id": "z8Zhup9-Ng1G",
        "colab_type": "code",
        "colab": {
          "base_uri": "https://localhost:8080/",
          "height": 202
        },
        "outputId": "01251235-22ef-4dea-9add-06e60c27d84a"
      },
      "source": [
        "cambiara_int(condiVida)\n",
        "condiVida.head()"
      ],
      "execution_count": 14,
      "outputs": [
        {
          "output_type": "execute_result",
          "data": {
            "text/html": [
              "<div>\n",
              "<style scoped>\n",
              "    .dataframe tbody tr th:only-of-type {\n",
              "        vertical-align: middle;\n",
              "    }\n",
              "\n",
              "    .dataframe tbody tr th {\n",
              "        vertical-align: top;\n",
              "    }\n",
              "\n",
              "    .dataframe thead th {\n",
              "        text-align: right;\n",
              "    }\n",
              "</style>\n",
              "<table border=\"1\" class=\"dataframe\">\n",
              "  <thead>\n",
              "    <tr style=\"text-align: right;\">\n",
              "      <th></th>\n",
              "      <th>DIRECTORIO</th>\n",
              "      <th>FEX_C</th>\n",
              "      <th>REGION</th>\n",
              "      <th>DIA_REFERENCIA_2</th>\n",
              "      <th>clase</th>\n",
              "      <th>P424</th>\n",
              "      <th>P4030S1</th>\n",
              "      <th>P4030S1A1</th>\n",
              "      <th>P4030S5</th>\n",
              "      <th>P4030S3</th>\n",
              "      <th>P4030S4</th>\n",
              "      <th>P4030S4A1</th>\n",
              "      <th>P4030S2</th>\n",
              "      <th>P4020</th>\n",
              "    </tr>\n",
              "  </thead>\n",
              "  <tbody>\n",
              "    <tr>\n",
              "      <th>0</th>\n",
              "      <td>2915591.0</td>\n",
              "      <td>463.993402</td>\n",
              "      <td>Central</td>\n",
              "      <td>Domingo</td>\n",
              "      <td>Cabecera</td>\n",
              "      <td>Casa</td>\n",
              "      <td>Sí</td>\n",
              "      <td>3</td>\n",
              "      <td>Sí</td>\n",
              "      <td>Sí</td>\n",
              "      <td>Sí</td>\n",
              "      <td>3</td>\n",
              "      <td>Sí</td>\n",
              "      <td>Cemento, gravilla</td>\n",
              "    </tr>\n",
              "    <tr>\n",
              "      <th>1</th>\n",
              "      <td>2915592.0</td>\n",
              "      <td>93.084381</td>\n",
              "      <td>Pacífica</td>\n",
              "      <td>Miércoles</td>\n",
              "      <td>Cabecera</td>\n",
              "      <td>Casa</td>\n",
              "      <td>Sí</td>\n",
              "      <td>1</td>\n",
              "      <td>No</td>\n",
              "      <td>No</td>\n",
              "      <td>Sí</td>\n",
              "      <td>3</td>\n",
              "      <td>No</td>\n",
              "      <td>Baldosa, cerámica, laminado</td>\n",
              "    </tr>\n",
              "    <tr>\n",
              "      <th>2</th>\n",
              "      <td>2915593.0</td>\n",
              "      <td>516.279638</td>\n",
              "      <td>Central</td>\n",
              "      <td>Domingo</td>\n",
              "      <td>Cabecera</td>\n",
              "      <td>Casa</td>\n",
              "      <td>Sí</td>\n",
              "      <td>1</td>\n",
              "      <td>Sí</td>\n",
              "      <td>Sí</td>\n",
              "      <td>Sí</td>\n",
              "      <td>3</td>\n",
              "      <td>Sí</td>\n",
              "      <td>Baldosa, cerámica, laminado</td>\n",
              "    </tr>\n",
              "    <tr>\n",
              "      <th>3</th>\n",
              "      <td>2915594.0</td>\n",
              "      <td>655.671443</td>\n",
              "      <td>Central</td>\n",
              "      <td>Domingo</td>\n",
              "      <td>Cabecera</td>\n",
              "      <td>Apartamento</td>\n",
              "      <td>Sí</td>\n",
              "      <td>1</td>\n",
              "      <td>Sí</td>\n",
              "      <td>Sí</td>\n",
              "      <td>Sí</td>\n",
              "      <td>3</td>\n",
              "      <td>Sí</td>\n",
              "      <td>Cemento, gravilla</td>\n",
              "    </tr>\n",
              "    <tr>\n",
              "      <th>4</th>\n",
              "      <td>2915595.0</td>\n",
              "      <td>326.783507</td>\n",
              "      <td>Central</td>\n",
              "      <td>Lunes</td>\n",
              "      <td>Cabecera</td>\n",
              "      <td>Apartamento</td>\n",
              "      <td>Sí</td>\n",
              "      <td>1</td>\n",
              "      <td>Sí</td>\n",
              "      <td>Sí</td>\n",
              "      <td>Sí</td>\n",
              "      <td>3</td>\n",
              "      <td>Sí</td>\n",
              "      <td>Baldosa, cerámica, laminado</td>\n",
              "    </tr>\n",
              "  </tbody>\n",
              "</table>\n",
              "</div>"
            ],
            "text/plain": [
              "   DIRECTORIO       FEX_C  ... P4030S2                        P4020\n",
              "0   2915591.0  463.993402  ...      Sí            Cemento, gravilla\n",
              "1   2915592.0   93.084381  ...      No  Baldosa, cerámica, laminado\n",
              "2   2915593.0  516.279638  ...      Sí  Baldosa, cerámica, laminado\n",
              "3   2915594.0  655.671443  ...      Sí            Cemento, gravilla\n",
              "4   2915595.0  326.783507  ...      Sí  Baldosa, cerámica, laminado\n",
              "\n",
              "[5 rows x 14 columns]"
            ]
          },
          "metadata": {
            "tags": []
          },
          "execution_count": 14
        }
      ]
    },
    {
      "cell_type": "markdown",
      "metadata": {
        "id": "SXcy2-scKZ2f",
        "colab_type": "text"
      },
      "source": [
        "## Análisis valores de las variables\n",
        "Si una variable contiene valores no lógicos lo primero que haría sobre la base de datos sería mirar los datos de las filas con estos valores de manera que se pueda identificar si el error fue intencionado o no, si no lo fue tratar de mirar una forma de corregirlo de acuerdo al valor allí presente, en caso de no poderse dependría de la importancia de la variable para los análisis el desechar la fila o no."
      ]
    },
    {
      "cell_type": "code",
      "metadata": {
        "id": "RMdmUmVNKZ2g",
        "colab_type": "code",
        "colab": {
          "base_uri": "https://localhost:8080/",
          "height": 661
        },
        "outputId": "bde86e69-8486-4ff0-cb22-c50d02619fdd"
      },
      "source": [
        "col_interes = 'DIRECTORIO\tREGION\tclase\tP424\tP4030S1\tP4030S1A1\tP4030S5\tP4030S3\tP4030S4\tP4030S4A1\tP4030S2\tP4020'.split(\"\\t\")\n",
        "condiVida = condiVida[col_interes]\n",
        "for columna in condiVida.columns:\n",
        "  print(columna,\"\\n\",condiVida[columna].unique())"
      ],
      "execution_count": 15,
      "outputs": [
        {
          "output_type": "stream",
          "text": [
            "DIRECTORIO \n",
            " [2915591. 2915592. 2915593. ... 2965178. 2965179. 2965180.]\n",
            "REGION \n",
            " [Central, Pacífica, Oriental, Atlántica, San Andrés, Bogotá]\n",
            "Categories (6, object): [Central, Pacífica, Oriental, Atlántica, San Andrés, Bogotá]\n",
            "clase \n",
            " [Cabecera, Resto]\n",
            "Categories (2, object): [Cabecera, Resto]\n",
            "P424 \n",
            " [Casa, Apartamento, Cuarto(s), Vivienda indígena, Otra vivienda (carpa, tienda, vagón, refugio n...]\n",
            "Categories (5, object): [Casa, Apartamento, Cuarto(s), Vivienda indígena,\n",
            "                         Otra vivienda (carpa, tienda, vagón, refugio n...]\n",
            "P4030S1 \n",
            " [Sí]\n",
            "Categories (1, object): [Sí]\n",
            "P4030S1A1 \n",
            " [3 1 2 4 0 5 9 6]\n",
            "P4030S5 \n",
            " [Sí, No]\n",
            "Categories (2, object): [Sí, No]\n",
            "P4030S3 \n",
            " [Sí, No]\n",
            "Categories (2, object): [Sí, No]\n",
            "P4030S4 \n",
            " [Sí, No]\n",
            "Categories (2, object): [Sí, No]\n",
            "P4030S4A1 \n",
            " [3 2 6 1 7 5 4 8]\n",
            "P4030S2 \n",
            " [Sí, No]\n",
            "Categories (2, object): [Sí, No]\n",
            "P4020 \n",
            " [Cemento, gravilla, Baldosa, cerámica, laminado, Vinilo, tableta, ladrillo, madera pulida sin l..., Tierra, arena, Mármol, parqué, madera pulida y lacada, Madera burda, tabla o tablón, otro vegetal, Alfombra o tapete de pared a pared]\n",
            "Categories (7, object): [Cemento, gravilla, Baldosa, cerámica, laminado,\n",
            "                         Vinilo, tableta, ladrillo, madera pulida sin l..., Tierra, arena, Mármol, parqué, madera pulida y lacada,\n",
            "                         Madera burda, tabla o tablón, otro vegetal, Alfombra o tapete de pared a pared]\n"
          ],
          "name": "stdout"
        }
      ]
    },
    {
      "cell_type": "markdown",
      "metadata": {
        "id": "RwFmar2fNFF6",
        "colab_type": "text"
      },
      "source": [
        "# H. FUERZA DE TRABAJO - Clasificacion"
      ]
    },
    {
      "cell_type": "markdown",
      "metadata": {
        "id": "nrqXvJPMNRx7",
        "colab_type": "text"
      },
      "source": [
        "## Análisis del tipo de variables"
      ]
    },
    {
      "cell_type": "code",
      "metadata": {
        "id": "zzoX0-F3NuCH",
        "colab_type": "code",
        "colab": {
          "base_uri": "https://localhost:8080/",
          "height": 312
        },
        "outputId": "7ec369bc-8f9e-4e29-d11e-d15d828ae67b"
      },
      "source": [
        "fuerTrabajo.dtypes"
      ],
      "execution_count": 16,
      "outputs": [
        {
          "output_type": "execute_result",
          "data": {
            "text/plain": [
              "DIRECTORIO      float64\n",
              "SECUENCIA_P     float64\n",
              "ORDEN           float64\n",
              "P1152          category\n",
              "P5953          category\n",
              "P6260          category\n",
              "P8340          category\n",
              "P6280          category\n",
              "P6290          category\n",
              "P6300          category\n",
              "P6310          category\n",
              "P7310          category\n",
              "P6330          category\n",
              "P6340          category\n",
              "P6350           float64\n",
              "P6351          category\n",
              "dtype: object"
            ]
          },
          "metadata": {
            "tags": []
          },
          "execution_count": 16
        }
      ]
    },
    {
      "cell_type": "markdown",
      "metadata": {
        "id": "yCrMeE71OvTZ",
        "colab_type": "text"
      },
      "source": [
        "Las columnas P6350 y SECUENCIA_P de acuerdo a la información de las variables deberían ser discreta, las demás columnas están en el tipo que deberían estar. Sin embargo por la presencia de valores nulos en ellas no se puede hacer el cambio sin haberlos removido previamente"
      ]
    },
    {
      "cell_type": "code",
      "metadata": {
        "id": "ubZ2Ijq4PKLL",
        "colab_type": "code",
        "colab": {}
      },
      "source": [
        "    def cambiar_int2(fuerTrabajo):\n",
        "      #fuerTrabajo[\"P6350\"]=fuerTrabajo[\"P6350\"].astype(int) #Se remueve más adelante por la cantidad de ausencias\n",
        "      fuerTrabajo[\"SECUENCIA_P\"]=fuerTrabajo[\"SECUENCIA_P\"].astype(int)"
      ],
      "execution_count": 71,
      "outputs": []
    },
    {
      "cell_type": "markdown",
      "metadata": {
        "id": "RuAX2x4jNTBH",
        "colab_type": "text"
      },
      "source": [
        "## Datos duplicados\n"
      ]
    },
    {
      "cell_type": "code",
      "metadata": {
        "id": "OY6wqW8mPe0b",
        "colab_type": "code",
        "colab": {
          "base_uri": "https://localhost:8080/",
          "height": 66
        },
        "outputId": "1a594b5a-344a-4abb-b950-ac9f8bcd6716"
      },
      "source": [
        "duplicados = fuerTrabajo.duplicated().sum()\n",
        "print(duplicados)\n",
        "fuerTrabajo[fuerTrabajo.duplicated()]"
      ],
      "execution_count": 18,
      "outputs": [
        {
          "output_type": "stream",
          "text": [
            "0\n"
          ],
          "name": "stdout"
        },
        {
          "output_type": "execute_result",
          "data": {
            "text/html": [
              "<div>\n",
              "<style scoped>\n",
              "    .dataframe tbody tr th:only-of-type {\n",
              "        vertical-align: middle;\n",
              "    }\n",
              "\n",
              "    .dataframe tbody tr th {\n",
              "        vertical-align: top;\n",
              "    }\n",
              "\n",
              "    .dataframe thead th {\n",
              "        text-align: right;\n",
              "    }\n",
              "</style>\n",
              "<table border=\"1\" class=\"dataframe\">\n",
              "  <thead>\n",
              "    <tr style=\"text-align: right;\">\n",
              "      <th></th>\n",
              "      <th>DIRECTORIO</th>\n",
              "      <th>SECUENCIA_P</th>\n",
              "      <th>ORDEN</th>\n",
              "      <th>P1152</th>\n",
              "      <th>P5953</th>\n",
              "      <th>P6260</th>\n",
              "      <th>P8340</th>\n",
              "      <th>P6280</th>\n",
              "      <th>P6290</th>\n",
              "      <th>P6300</th>\n",
              "      <th>P6310</th>\n",
              "      <th>P7310</th>\n",
              "      <th>P6330</th>\n",
              "      <th>P6340</th>\n",
              "      <th>P6350</th>\n",
              "      <th>P6351</th>\n",
              "    </tr>\n",
              "  </thead>\n",
              "  <tbody>\n",
              "  </tbody>\n",
              "</table>\n",
              "</div>"
            ],
            "text/plain": [
              "Empty DataFrame\n",
              "Columns: [DIRECTORIO, SECUENCIA_P, ORDEN, P1152, P5953, P6260, P8340, P6280, P6290, P6300, P6310, P7310, P6330, P6340, P6350, P6351]\n",
              "Index: []"
            ]
          },
          "metadata": {
            "tags": []
          },
          "execution_count": 18
        }
      ]
    },
    {
      "cell_type": "markdown",
      "metadata": {
        "id": "Yj_A3gW6NVOF",
        "colab_type": "text"
      },
      "source": [
        "## Datos faltantes"
      ]
    },
    {
      "cell_type": "code",
      "metadata": {
        "id": "t4s1RYXmPmKN",
        "colab_type": "code",
        "colab": {
          "base_uri": "https://localhost:8080/",
          "height": 540
        },
        "outputId": "a9a202bb-63f3-4701-f0c6-0e8b77b205d9"
      },
      "source": [
        "faltantes = missing_values_table(fuerTrabajo)\n",
        "faltantes"
      ],
      "execution_count": 19,
      "outputs": [
        {
          "output_type": "execute_result",
          "data": {
            "text/html": [
              "<div>\n",
              "<style scoped>\n",
              "    .dataframe tbody tr th:only-of-type {\n",
              "        vertical-align: middle;\n",
              "    }\n",
              "\n",
              "    .dataframe tbody tr th {\n",
              "        vertical-align: top;\n",
              "    }\n",
              "\n",
              "    .dataframe thead th {\n",
              "        text-align: right;\n",
              "    }\n",
              "</style>\n",
              "<table border=\"1\" class=\"dataframe\">\n",
              "  <thead>\n",
              "    <tr style=\"text-align: right;\">\n",
              "      <th></th>\n",
              "      <th>Missing Values</th>\n",
              "      <th>% of Total Values</th>\n",
              "    </tr>\n",
              "  </thead>\n",
              "  <tbody>\n",
              "    <tr>\n",
              "      <th>DIRECTORIO</th>\n",
              "      <td>0</td>\n",
              "      <td>0.000000</td>\n",
              "    </tr>\n",
              "    <tr>\n",
              "      <th>SECUENCIA_P</th>\n",
              "      <td>0</td>\n",
              "      <td>0.000000</td>\n",
              "    </tr>\n",
              "    <tr>\n",
              "      <th>ORDEN</th>\n",
              "      <td>0</td>\n",
              "      <td>0.000000</td>\n",
              "    </tr>\n",
              "    <tr>\n",
              "      <th>P1152</th>\n",
              "      <td>0</td>\n",
              "      <td>0.000000</td>\n",
              "    </tr>\n",
              "    <tr>\n",
              "      <th>P5953</th>\n",
              "      <td>58706</td>\n",
              "      <td>47.606150</td>\n",
              "    </tr>\n",
              "    <tr>\n",
              "      <th>P6260</th>\n",
              "      <td>63366</td>\n",
              "      <td>51.385060</td>\n",
              "    </tr>\n",
              "    <tr>\n",
              "      <th>P8340</th>\n",
              "      <td>64905</td>\n",
              "      <td>52.633073</td>\n",
              "    </tr>\n",
              "    <tr>\n",
              "      <th>P6280</th>\n",
              "      <td>66042</td>\n",
              "      <td>53.555094</td>\n",
              "    </tr>\n",
              "    <tr>\n",
              "      <th>P6290</th>\n",
              "      <td>118465</td>\n",
              "      <td>96.066204</td>\n",
              "    </tr>\n",
              "    <tr>\n",
              "      <th>P6300</th>\n",
              "      <td>70893</td>\n",
              "      <td>57.488890</td>\n",
              "    </tr>\n",
              "    <tr>\n",
              "      <th>P6310</th>\n",
              "      <td>115038</td>\n",
              "      <td>93.287165</td>\n",
              "    </tr>\n",
              "    <tr>\n",
              "      <th>P7310</th>\n",
              "      <td>119611</td>\n",
              "      <td>96.995524</td>\n",
              "    </tr>\n",
              "    <tr>\n",
              "      <th>P6330</th>\n",
              "      <td>122310</td>\n",
              "      <td>99.184210</td>\n",
              "    </tr>\n",
              "    <tr>\n",
              "      <th>P6340</th>\n",
              "      <td>120617</td>\n",
              "      <td>97.811314</td>\n",
              "    </tr>\n",
              "    <tr>\n",
              "      <th>P6350</th>\n",
              "      <td>122360</td>\n",
              "      <td>99.224756</td>\n",
              "    </tr>\n",
              "    <tr>\n",
              "      <th>P6351</th>\n",
              "      <td>117490</td>\n",
              "      <td>95.275552</td>\n",
              "    </tr>\n",
              "  </tbody>\n",
              "</table>\n",
              "</div>"
            ],
            "text/plain": [
              "             Missing Values  % of Total Values\n",
              "DIRECTORIO                0           0.000000\n",
              "SECUENCIA_P               0           0.000000\n",
              "ORDEN                     0           0.000000\n",
              "P1152                     0           0.000000\n",
              "P5953                 58706          47.606150\n",
              "P6260                 63366          51.385060\n",
              "P8340                 64905          52.633073\n",
              "P6280                 66042          53.555094\n",
              "P6290                118465          96.066204\n",
              "P6300                 70893          57.488890\n",
              "P6310                115038          93.287165\n",
              "P7310                119611          96.995524\n",
              "P6330                122310          99.184210\n",
              "P6340                120617          97.811314\n",
              "P6350                122360          99.224756\n",
              "P6351                117490          95.275552"
            ]
          },
          "metadata": {
            "tags": []
          },
          "execution_count": 19
        }
      ]
    },
    {
      "cell_type": "markdown",
      "metadata": {
        "id": "sUIB7lBvQHU7",
        "colab_type": "text"
      },
      "source": [
        "Hay una gran cantidad de columnas con más del 90% de valores faltantes por lo que es mejor removerlas y ver con más detalle la importancia de las que siguen presentando valores nulos\n"
      ]
    },
    {
      "cell_type": "code",
      "metadata": {
        "id": "FvQtKf4rQSJF",
        "colab_type": "code",
        "colab": {
          "base_uri": "https://localhost:8080/",
          "height": 325
        },
        "outputId": "d327c6b3-bdae-4420-ebff-5dd705f54b44"
      },
      "source": [
        "a_remover=[]\n",
        "for columna in fuerTrabajo.columns:\n",
        "  if faltantes.loc[columna,'% of Total Values'] >= 90:\n",
        "    a_remover.append(columna)\n",
        "fuerTrabajo.drop(axis=1,labels=a_remover,inplace=True)\n",
        "missing_values_table(fuerTrabajo)"
      ],
      "execution_count": 20,
      "outputs": [
        {
          "output_type": "execute_result",
          "data": {
            "text/html": [
              "<div>\n",
              "<style scoped>\n",
              "    .dataframe tbody tr th:only-of-type {\n",
              "        vertical-align: middle;\n",
              "    }\n",
              "\n",
              "    .dataframe tbody tr th {\n",
              "        vertical-align: top;\n",
              "    }\n",
              "\n",
              "    .dataframe thead th {\n",
              "        text-align: right;\n",
              "    }\n",
              "</style>\n",
              "<table border=\"1\" class=\"dataframe\">\n",
              "  <thead>\n",
              "    <tr style=\"text-align: right;\">\n",
              "      <th></th>\n",
              "      <th>Missing Values</th>\n",
              "      <th>% of Total Values</th>\n",
              "    </tr>\n",
              "  </thead>\n",
              "  <tbody>\n",
              "    <tr>\n",
              "      <th>DIRECTORIO</th>\n",
              "      <td>0</td>\n",
              "      <td>0.000000</td>\n",
              "    </tr>\n",
              "    <tr>\n",
              "      <th>SECUENCIA_P</th>\n",
              "      <td>0</td>\n",
              "      <td>0.000000</td>\n",
              "    </tr>\n",
              "    <tr>\n",
              "      <th>ORDEN</th>\n",
              "      <td>0</td>\n",
              "      <td>0.000000</td>\n",
              "    </tr>\n",
              "    <tr>\n",
              "      <th>P1152</th>\n",
              "      <td>0</td>\n",
              "      <td>0.000000</td>\n",
              "    </tr>\n",
              "    <tr>\n",
              "      <th>P5953</th>\n",
              "      <td>58706</td>\n",
              "      <td>47.606150</td>\n",
              "    </tr>\n",
              "    <tr>\n",
              "      <th>P6260</th>\n",
              "      <td>63366</td>\n",
              "      <td>51.385060</td>\n",
              "    </tr>\n",
              "    <tr>\n",
              "      <th>P8340</th>\n",
              "      <td>64905</td>\n",
              "      <td>52.633073</td>\n",
              "    </tr>\n",
              "    <tr>\n",
              "      <th>P6280</th>\n",
              "      <td>66042</td>\n",
              "      <td>53.555094</td>\n",
              "    </tr>\n",
              "    <tr>\n",
              "      <th>P6300</th>\n",
              "      <td>70893</td>\n",
              "      <td>57.488890</td>\n",
              "    </tr>\n",
              "  </tbody>\n",
              "</table>\n",
              "</div>"
            ],
            "text/plain": [
              "             Missing Values  % of Total Values\n",
              "DIRECTORIO                0           0.000000\n",
              "SECUENCIA_P               0           0.000000\n",
              "ORDEN                     0           0.000000\n",
              "P1152                     0           0.000000\n",
              "P5953                 58706          47.606150\n",
              "P6260                 63366          51.385060\n",
              "P8340                 64905          52.633073\n",
              "P6280                 66042          53.555094\n",
              "P6300                 70893          57.488890"
            ]
          },
          "metadata": {
            "tags": []
          },
          "execution_count": 20
        }
      ]
    },
    {
      "cell_type": "markdown",
      "metadata": {
        "id": "Qi_z5TDPTxcW",
        "colab_type": "text"
      },
      "source": [
        "Para las columnas con valores faltantes cercanos al 50% considero prudente eliminar las filas que tengan 2 o más de estas columnas vacías.\n",
        "\n"
      ]
    },
    {
      "cell_type": "code",
      "metadata": {
        "id": "lkCnrGOrRpPr",
        "colab_type": "code",
        "colab": {
          "base_uri": "https://localhost:8080/",
          "height": 325
        },
        "outputId": "256ee182-945c-4fce-f99d-9ee4f65de639"
      },
      "source": [
        "fuerTrabajo.dropna(subset=['P5953','P6260','P8340','P6280','P6300'],thresh=2,inplace=True)\n",
        "missing_values_table(fuerTrabajo)"
      ],
      "execution_count": 64,
      "outputs": [
        {
          "output_type": "execute_result",
          "data": {
            "text/html": [
              "<div>\n",
              "<style scoped>\n",
              "    .dataframe tbody tr th:only-of-type {\n",
              "        vertical-align: middle;\n",
              "    }\n",
              "\n",
              "    .dataframe tbody tr th {\n",
              "        vertical-align: top;\n",
              "    }\n",
              "\n",
              "    .dataframe thead th {\n",
              "        text-align: right;\n",
              "    }\n",
              "</style>\n",
              "<table border=\"1\" class=\"dataframe\">\n",
              "  <thead>\n",
              "    <tr style=\"text-align: right;\">\n",
              "      <th></th>\n",
              "      <th>Missing Values</th>\n",
              "      <th>% of Total Values</th>\n",
              "    </tr>\n",
              "  </thead>\n",
              "  <tbody>\n",
              "    <tr>\n",
              "      <th>DIRECTORIO</th>\n",
              "      <td>0</td>\n",
              "      <td>0.000000</td>\n",
              "    </tr>\n",
              "    <tr>\n",
              "      <th>SECUENCIA_P</th>\n",
              "      <td>0</td>\n",
              "      <td>0.000000</td>\n",
              "    </tr>\n",
              "    <tr>\n",
              "      <th>ORDEN</th>\n",
              "      <td>0</td>\n",
              "      <td>0.000000</td>\n",
              "    </tr>\n",
              "    <tr>\n",
              "      <th>P1152</th>\n",
              "      <td>0</td>\n",
              "      <td>0.000000</td>\n",
              "    </tr>\n",
              "    <tr>\n",
              "      <th>P5953</th>\n",
              "      <td>0</td>\n",
              "      <td>0.000000</td>\n",
              "    </tr>\n",
              "    <tr>\n",
              "      <th>P6260</th>\n",
              "      <td>0</td>\n",
              "      <td>0.000000</td>\n",
              "    </tr>\n",
              "    <tr>\n",
              "      <th>P8340</th>\n",
              "      <td>1539</td>\n",
              "      <td>2.567139</td>\n",
              "    </tr>\n",
              "    <tr>\n",
              "      <th>P6280</th>\n",
              "      <td>2676</td>\n",
              "      <td>4.463720</td>\n",
              "    </tr>\n",
              "    <tr>\n",
              "      <th>P6300</th>\n",
              "      <td>7527</td>\n",
              "      <td>12.555463</td>\n",
              "    </tr>\n",
              "  </tbody>\n",
              "</table>\n",
              "</div>"
            ],
            "text/plain": [
              "             Missing Values  % of Total Values\n",
              "DIRECTORIO                0           0.000000\n",
              "SECUENCIA_P               0           0.000000\n",
              "ORDEN                     0           0.000000\n",
              "P1152                     0           0.000000\n",
              "P5953                     0           0.000000\n",
              "P6260                     0           0.000000\n",
              "P8340                  1539           2.567139\n",
              "P6280                  2676           4.463720\n",
              "P6300                  7527          12.555463"
            ]
          },
          "metadata": {
            "tags": []
          },
          "execution_count": 64
        }
      ]
    },
    {
      "cell_type": "code",
      "metadata": {
        "id": "zD1WFIscWUDl",
        "colab_type": "code",
        "colab": {
          "base_uri": "https://localhost:8080/",
          "height": 173
        },
        "outputId": "b34b8e63-3ba9-4405-b0c2-4b023f268552"
      },
      "source": [
        "for columna in (['P8340','P6280','P6300']):\n",
        "  print(fuerTrabajo[columna].value_counts())"
      ],
      "execution_count": 66,
      "outputs": [
        {
          "output_type": "stream",
          "text": [
            "No.    57274\n",
            "Sí.     1137\n",
            "Name: P8340, dtype: int64\n",
            "No.    52423\n",
            "Sí.     4851\n",
            "Name: P6280, dtype: int64\n",
            "No.    44145\n",
            "Sí.     8278\n",
            "Name: P6300, dtype: int64\n"
          ],
          "name": "stdout"
        }
      ]
    },
    {
      "cell_type": "markdown",
      "metadata": {
        "id": "HIMfbHlZWZ1p",
        "colab_type": "text"
      },
      "source": [
        "Hay una gran diferencia entre los dos valores de las columnas vacías por lo que considero apropiado reemplazar los valores faltantes con la moda.\n"
      ]
    },
    {
      "cell_type": "code",
      "metadata": {
        "id": "tw3y1iQNWl-t",
        "colab_type": "code",
        "colab": {}
      },
      "source": [
        "for columna in (['P8340','P6280','P6300']):\n",
        "  fuerTrabajo[columna] = fuerTrabajo[columna].fillna(fuerTrabajo[columna].mode()[0])\n"
      ],
      "execution_count": 67,
      "outputs": []
    },
    {
      "cell_type": "code",
      "metadata": {
        "id": "o2sSHtZ6WzqM",
        "colab_type": "code",
        "colab": {
          "base_uri": "https://localhost:8080/",
          "height": 325
        },
        "outputId": "6aae599d-7b1f-467f-f671-ce01aded4068"
      },
      "source": [
        "cambiar_int2(fuerTrabajo)\n",
        "missing_values_table(fuerTrabajo)"
      ],
      "execution_count": 72,
      "outputs": [
        {
          "output_type": "execute_result",
          "data": {
            "text/html": [
              "<div>\n",
              "<style scoped>\n",
              "    .dataframe tbody tr th:only-of-type {\n",
              "        vertical-align: middle;\n",
              "    }\n",
              "\n",
              "    .dataframe tbody tr th {\n",
              "        vertical-align: top;\n",
              "    }\n",
              "\n",
              "    .dataframe thead th {\n",
              "        text-align: right;\n",
              "    }\n",
              "</style>\n",
              "<table border=\"1\" class=\"dataframe\">\n",
              "  <thead>\n",
              "    <tr style=\"text-align: right;\">\n",
              "      <th></th>\n",
              "      <th>Missing Values</th>\n",
              "      <th>% of Total Values</th>\n",
              "    </tr>\n",
              "  </thead>\n",
              "  <tbody>\n",
              "    <tr>\n",
              "      <th>DIRECTORIO</th>\n",
              "      <td>0</td>\n",
              "      <td>0.0</td>\n",
              "    </tr>\n",
              "    <tr>\n",
              "      <th>SECUENCIA_P</th>\n",
              "      <td>0</td>\n",
              "      <td>0.0</td>\n",
              "    </tr>\n",
              "    <tr>\n",
              "      <th>ORDEN</th>\n",
              "      <td>0</td>\n",
              "      <td>0.0</td>\n",
              "    </tr>\n",
              "    <tr>\n",
              "      <th>P1152</th>\n",
              "      <td>0</td>\n",
              "      <td>0.0</td>\n",
              "    </tr>\n",
              "    <tr>\n",
              "      <th>P5953</th>\n",
              "      <td>0</td>\n",
              "      <td>0.0</td>\n",
              "    </tr>\n",
              "    <tr>\n",
              "      <th>P6260</th>\n",
              "      <td>0</td>\n",
              "      <td>0.0</td>\n",
              "    </tr>\n",
              "    <tr>\n",
              "      <th>P8340</th>\n",
              "      <td>0</td>\n",
              "      <td>0.0</td>\n",
              "    </tr>\n",
              "    <tr>\n",
              "      <th>P6280</th>\n",
              "      <td>0</td>\n",
              "      <td>0.0</td>\n",
              "    </tr>\n",
              "    <tr>\n",
              "      <th>P6300</th>\n",
              "      <td>0</td>\n",
              "      <td>0.0</td>\n",
              "    </tr>\n",
              "  </tbody>\n",
              "</table>\n",
              "</div>"
            ],
            "text/plain": [
              "             Missing Values  % of Total Values\n",
              "DIRECTORIO                0                0.0\n",
              "SECUENCIA_P               0                0.0\n",
              "ORDEN                     0                0.0\n",
              "P1152                     0                0.0\n",
              "P5953                     0                0.0\n",
              "P6260                     0                0.0\n",
              "P8340                     0                0.0\n",
              "P6280                     0                0.0\n",
              "P6300                     0                0.0"
            ]
          },
          "metadata": {
            "tags": []
          },
          "execution_count": 72
        }
      ]
    },
    {
      "cell_type": "markdown",
      "metadata": {
        "id": "jj3fgCVxNYG9",
        "colab_type": "text"
      },
      "source": [
        "## Análisis valores de las variables"
      ]
    },
    {
      "cell_type": "code",
      "metadata": {
        "id": "9T5za2a6QGg7",
        "colab_type": "code",
        "colab": {
          "base_uri": "https://localhost:8080/",
          "height": 433
        },
        "outputId": "2e7d8900-f3ce-4bbb-8069-881acd0d9d3d"
      },
      "source": [
        "for columna in fuerTrabajo.columns:\n",
        "  print(columna,\"\\n\",fuerTrabajo[columna].unique())"
      ],
      "execution_count": 74,
      "outputs": [
        {
          "output_type": "stream",
          "text": [
            "DIRECTORIO \n",
            " [2915593. 2915596. 2915597. ... 2965175. 2965179. 2965180.]\n",
            "SECUENCIA_P \n",
            " [1 2 3 4 5]\n",
            "ORDEN \n",
            " [ 2.  3.  4.  1.  5.  7.  8.  6. 10.  9. 11. 13. 16. 12. 14. 15. 17.]\n",
            "P1152 \n",
            " [Estudiando., Oficios del hogar., Buscando trabajo., Otra actividad]\n",
            "Categories (4, object): [Estudiando., Oficios del hogar., Buscando trabajo., Otra actividad]\n",
            "P5953 \n",
            " [No.]\n",
            "Categories (1, object): [No.]\n",
            "P6260 \n",
            " [No., Sí.]\n",
            "Categories (2, object): [No., Sí.]\n",
            "P8340 \n",
            " [No., Sí.]\n",
            "Categories (2, object): [No., Sí.]\n",
            "P6280 \n",
            " [No., Sí.]\n",
            "Categories (2, object): [No., Sí.]\n",
            "P6300 \n",
            " [No., Sí.]\n",
            "Categories (2, object): [No., Sí.]\n"
          ],
          "name": "stdout"
        }
      ]
    }
  ]
}