{
 "cells": [
  {
   "cell_type": "code",
   "execution_count": 2,
   "metadata": {},
   "outputs": [],
   "source": [
    "# Importante librerias o modulos que se van a usar en esta sesion\n",
    "import os, sys\n",
    "import numpy as np\n",
    "import pandas as pd\n",
    "import pandas_profiling \n",
    "\n",
    "##Librerías para graficar\n",
    "import matplotlib\n",
    "matplotlib.style.use('ggplot')\n",
    "from matplotlib import pyplot as plt"
   ]
  },
  {
   "cell_type": "markdown",
   "metadata": {},
   "source": [
    "# Lectura de los datos"
   ]
  },
  {
   "cell_type": "code",
   "execution_count": 3,
   "metadata": {
    "scrolled": true
   },
   "outputs": [],
   "source": [
    "condiVida = pd.read_spss('B.sav')\n",
    "fuerTrabajo = pd.read_spss('H.sav')"
   ]
  },
  {
   "cell_type": "code",
   "execution_count": 4,
   "metadata": {
    "scrolled": true
   },
   "outputs": [
    {
     "data": {
      "text/html": [
       "<div>\n",
       "<style scoped>\n",
       "    .dataframe tbody tr th:only-of-type {\n",
       "        vertical-align: middle;\n",
       "    }\n",
       "\n",
       "    .dataframe tbody tr th {\n",
       "        vertical-align: top;\n",
       "    }\n",
       "\n",
       "    .dataframe thead th {\n",
       "        text-align: right;\n",
       "    }\n",
       "</style>\n",
       "<table border=\"1\" class=\"dataframe\">\n",
       "  <thead>\n",
       "    <tr style=\"text-align: right;\">\n",
       "      <th></th>\n",
       "      <th>DIRECTORIO</th>\n",
       "      <th>FEX_C</th>\n",
       "      <th>REGION</th>\n",
       "      <th>DIA_REFERENCIA_2</th>\n",
       "      <th>clase</th>\n",
       "      <th>P424</th>\n",
       "      <th>P4030S1</th>\n",
       "      <th>P4030S1A1</th>\n",
       "      <th>P4030S5</th>\n",
       "      <th>P4030S3</th>\n",
       "      <th>P4030S4</th>\n",
       "      <th>P4030S4A1</th>\n",
       "      <th>P4030S2</th>\n",
       "      <th>P4020</th>\n",
       "    </tr>\n",
       "  </thead>\n",
       "  <tbody>\n",
       "    <tr>\n",
       "      <th>0</th>\n",
       "      <td>2915591.0</td>\n",
       "      <td>463.993402</td>\n",
       "      <td>Central</td>\n",
       "      <td>Domingo</td>\n",
       "      <td>Cabecera</td>\n",
       "      <td>Casa</td>\n",
       "      <td>Sí</td>\n",
       "      <td>3.0</td>\n",
       "      <td>Sí</td>\n",
       "      <td>Sí</td>\n",
       "      <td>Sí</td>\n",
       "      <td>3.0</td>\n",
       "      <td>Sí</td>\n",
       "      <td>Cemento, gravilla</td>\n",
       "    </tr>\n",
       "    <tr>\n",
       "      <th>1</th>\n",
       "      <td>2915592.0</td>\n",
       "      <td>93.084381</td>\n",
       "      <td>Pacífica</td>\n",
       "      <td>Miércoles</td>\n",
       "      <td>Cabecera</td>\n",
       "      <td>Casa</td>\n",
       "      <td>Sí</td>\n",
       "      <td>1.0</td>\n",
       "      <td>No</td>\n",
       "      <td>No</td>\n",
       "      <td>Sí</td>\n",
       "      <td>3.0</td>\n",
       "      <td>No</td>\n",
       "      <td>Baldosa, cerámica, laminado</td>\n",
       "    </tr>\n",
       "    <tr>\n",
       "      <th>2</th>\n",
       "      <td>2915593.0</td>\n",
       "      <td>516.279638</td>\n",
       "      <td>Central</td>\n",
       "      <td>Domingo</td>\n",
       "      <td>Cabecera</td>\n",
       "      <td>Casa</td>\n",
       "      <td>Sí</td>\n",
       "      <td>1.0</td>\n",
       "      <td>Sí</td>\n",
       "      <td>Sí</td>\n",
       "      <td>Sí</td>\n",
       "      <td>3.0</td>\n",
       "      <td>Sí</td>\n",
       "      <td>Baldosa, cerámica, laminado</td>\n",
       "    </tr>\n",
       "    <tr>\n",
       "      <th>3</th>\n",
       "      <td>2915594.0</td>\n",
       "      <td>655.671443</td>\n",
       "      <td>Central</td>\n",
       "      <td>Domingo</td>\n",
       "      <td>Cabecera</td>\n",
       "      <td>Apartamento</td>\n",
       "      <td>Sí</td>\n",
       "      <td>1.0</td>\n",
       "      <td>Sí</td>\n",
       "      <td>Sí</td>\n",
       "      <td>Sí</td>\n",
       "      <td>3.0</td>\n",
       "      <td>Sí</td>\n",
       "      <td>Cemento, gravilla</td>\n",
       "    </tr>\n",
       "    <tr>\n",
       "      <th>4</th>\n",
       "      <td>2915595.0</td>\n",
       "      <td>326.783507</td>\n",
       "      <td>Central</td>\n",
       "      <td>Lunes</td>\n",
       "      <td>Cabecera</td>\n",
       "      <td>Apartamento</td>\n",
       "      <td>Sí</td>\n",
       "      <td>1.0</td>\n",
       "      <td>Sí</td>\n",
       "      <td>Sí</td>\n",
       "      <td>Sí</td>\n",
       "      <td>3.0</td>\n",
       "      <td>Sí</td>\n",
       "      <td>Baldosa, cerámica, laminado</td>\n",
       "    </tr>\n",
       "  </tbody>\n",
       "</table>\n",
       "</div>"
      ],
      "text/plain": [
       "   DIRECTORIO       FEX_C    REGION DIA_REFERENCIA_2     clase         P424  \\\n",
       "0   2915591.0  463.993402   Central          Domingo  Cabecera         Casa   \n",
       "1   2915592.0   93.084381  Pacífica        Miércoles  Cabecera         Casa   \n",
       "2   2915593.0  516.279638   Central          Domingo  Cabecera         Casa   \n",
       "3   2915594.0  655.671443   Central          Domingo  Cabecera  Apartamento   \n",
       "4   2915595.0  326.783507   Central            Lunes  Cabecera  Apartamento   \n",
       "\n",
       "  P4030S1  P4030S1A1 P4030S5 P4030S3 P4030S4  P4030S4A1 P4030S2  \\\n",
       "0      Sí        3.0      Sí      Sí      Sí        3.0      Sí   \n",
       "1      Sí        1.0      No      No      Sí        3.0      No   \n",
       "2      Sí        1.0      Sí      Sí      Sí        3.0      Sí   \n",
       "3      Sí        1.0      Sí      Sí      Sí        3.0      Sí   \n",
       "4      Sí        1.0      Sí      Sí      Sí        3.0      Sí   \n",
       "\n",
       "                         P4020  \n",
       "0            Cemento, gravilla  \n",
       "1  Baldosa, cerámica, laminado  \n",
       "2  Baldosa, cerámica, laminado  \n",
       "3            Cemento, gravilla  \n",
       "4  Baldosa, cerámica, laminado  "
      ]
     },
     "execution_count": 4,
     "metadata": {},
     "output_type": "execute_result"
    }
   ],
   "source": [
    "condiVida.head()"
   ]
  },
  {
   "cell_type": "code",
   "execution_count": 5,
   "metadata": {},
   "outputs": [
    {
     "data": {
      "text/html": [
       "<div>\n",
       "<style scoped>\n",
       "    .dataframe tbody tr th:only-of-type {\n",
       "        vertical-align: middle;\n",
       "    }\n",
       "\n",
       "    .dataframe tbody tr th {\n",
       "        vertical-align: top;\n",
       "    }\n",
       "\n",
       "    .dataframe thead th {\n",
       "        text-align: right;\n",
       "    }\n",
       "</style>\n",
       "<table border=\"1\" class=\"dataframe\">\n",
       "  <thead>\n",
       "    <tr style=\"text-align: right;\">\n",
       "      <th></th>\n",
       "      <th>DIRECTORIO</th>\n",
       "      <th>SECUENCIA_P</th>\n",
       "      <th>ORDEN</th>\n",
       "      <th>P1152</th>\n",
       "      <th>P5953</th>\n",
       "      <th>P6260</th>\n",
       "      <th>P8340</th>\n",
       "      <th>P6280</th>\n",
       "      <th>P6290</th>\n",
       "      <th>P6300</th>\n",
       "      <th>P6310</th>\n",
       "      <th>P7310</th>\n",
       "      <th>P6330</th>\n",
       "      <th>P6340</th>\n",
       "      <th>P6350</th>\n",
       "      <th>P6351</th>\n",
       "    </tr>\n",
       "  </thead>\n",
       "  <tbody>\n",
       "    <tr>\n",
       "      <th>0</th>\n",
       "      <td>2915591.0</td>\n",
       "      <td>1.0</td>\n",
       "      <td>1.0</td>\n",
       "      <td>Trabajando.</td>\n",
       "      <td>NaN</td>\n",
       "      <td>NaN</td>\n",
       "      <td>NaN</td>\n",
       "      <td>NaN</td>\n",
       "      <td>NaN</td>\n",
       "      <td>NaN</td>\n",
       "      <td>NaN</td>\n",
       "      <td>NaN</td>\n",
       "      <td>NaN</td>\n",
       "      <td>NaN</td>\n",
       "      <td>NaN</td>\n",
       "      <td>NaN</td>\n",
       "    </tr>\n",
       "    <tr>\n",
       "      <th>1</th>\n",
       "      <td>2915592.0</td>\n",
       "      <td>1.0</td>\n",
       "      <td>1.0</td>\n",
       "      <td>Trabajando.</td>\n",
       "      <td>NaN</td>\n",
       "      <td>NaN</td>\n",
       "      <td>NaN</td>\n",
       "      <td>NaN</td>\n",
       "      <td>NaN</td>\n",
       "      <td>NaN</td>\n",
       "      <td>NaN</td>\n",
       "      <td>NaN</td>\n",
       "      <td>NaN</td>\n",
       "      <td>NaN</td>\n",
       "      <td>NaN</td>\n",
       "      <td>NaN</td>\n",
       "    </tr>\n",
       "    <tr>\n",
       "      <th>2</th>\n",
       "      <td>2915593.0</td>\n",
       "      <td>1.0</td>\n",
       "      <td>1.0</td>\n",
       "      <td>Trabajando.</td>\n",
       "      <td>NaN</td>\n",
       "      <td>NaN</td>\n",
       "      <td>NaN</td>\n",
       "      <td>NaN</td>\n",
       "      <td>NaN</td>\n",
       "      <td>NaN</td>\n",
       "      <td>NaN</td>\n",
       "      <td>NaN</td>\n",
       "      <td>NaN</td>\n",
       "      <td>NaN</td>\n",
       "      <td>NaN</td>\n",
       "      <td>NaN</td>\n",
       "    </tr>\n",
       "    <tr>\n",
       "      <th>3</th>\n",
       "      <td>2915593.0</td>\n",
       "      <td>1.0</td>\n",
       "      <td>2.0</td>\n",
       "      <td>Estudiando.</td>\n",
       "      <td>No.</td>\n",
       "      <td>No.</td>\n",
       "      <td>No.</td>\n",
       "      <td>No.</td>\n",
       "      <td>NaN</td>\n",
       "      <td>No.</td>\n",
       "      <td>NaN</td>\n",
       "      <td>NaN</td>\n",
       "      <td>NaN</td>\n",
       "      <td>NaN</td>\n",
       "      <td>NaN</td>\n",
       "      <td>NaN</td>\n",
       "    </tr>\n",
       "    <tr>\n",
       "      <th>4</th>\n",
       "      <td>2915594.0</td>\n",
       "      <td>1.0</td>\n",
       "      <td>1.0</td>\n",
       "      <td>Trabajando.</td>\n",
       "      <td>NaN</td>\n",
       "      <td>NaN</td>\n",
       "      <td>NaN</td>\n",
       "      <td>NaN</td>\n",
       "      <td>NaN</td>\n",
       "      <td>NaN</td>\n",
       "      <td>NaN</td>\n",
       "      <td>NaN</td>\n",
       "      <td>NaN</td>\n",
       "      <td>NaN</td>\n",
       "      <td>NaN</td>\n",
       "      <td>NaN</td>\n",
       "    </tr>\n",
       "  </tbody>\n",
       "</table>\n",
       "</div>"
      ],
      "text/plain": [
       "   DIRECTORIO  SECUENCIA_P  ORDEN        P1152 P5953 P6260 P8340 P6280 P6290  \\\n",
       "0   2915591.0          1.0    1.0  Trabajando.   NaN   NaN   NaN   NaN   NaN   \n",
       "1   2915592.0          1.0    1.0  Trabajando.   NaN   NaN   NaN   NaN   NaN   \n",
       "2   2915593.0          1.0    1.0  Trabajando.   NaN   NaN   NaN   NaN   NaN   \n",
       "3   2915593.0          1.0    2.0  Estudiando.   No.   No.   No.   No.   NaN   \n",
       "4   2915594.0          1.0    1.0  Trabajando.   NaN   NaN   NaN   NaN   NaN   \n",
       "\n",
       "  P6300 P6310 P7310 P6330 P6340  P6350 P6351  \n",
       "0   NaN   NaN   NaN   NaN   NaN    NaN   NaN  \n",
       "1   NaN   NaN   NaN   NaN   NaN    NaN   NaN  \n",
       "2   NaN   NaN   NaN   NaN   NaN    NaN   NaN  \n",
       "3   No.   NaN   NaN   NaN   NaN    NaN   NaN  \n",
       "4   NaN   NaN   NaN   NaN   NaN    NaN   NaN  "
      ]
     },
     "execution_count": 5,
     "metadata": {},
     "output_type": "execute_result"
    }
   ],
   "source": [
    "fuerTrabajo.head()"
   ]
  },
  {
   "cell_type": "markdown",
   "metadata": {},
   "source": [
    "# B. CONDICIONES DE LA VIVIENDA"
   ]
  },
  {
   "cell_type": "markdown",
   "metadata": {},
   "source": [
    "## Análisis del tipo de variables"
   ]
  },
  {
   "cell_type": "code",
   "execution_count": 6,
   "metadata": {
    "scrolled": true
   },
   "outputs": [
    {
     "data": {
      "text/plain": [
       "DIRECTORIO           float64\n",
       "FEX_C                float64\n",
       "REGION              category\n",
       "DIA_REFERENCIA_2    category\n",
       "clase               category\n",
       "P424                category\n",
       "P4030S1             category\n",
       "P4030S1A1            float64\n",
       "P4030S5             category\n",
       "P4030S3             category\n",
       "P4030S4             category\n",
       "P4030S4A1            float64\n",
       "P4030S2             category\n",
       "P4020               category\n",
       "dtype: object"
      ]
     },
     "execution_count": 6,
     "metadata": {},
     "output_type": "execute_result"
    }
   ],
   "source": [
    "condiVida.dtypes"
   ]
  },
  {
   "cell_type": "markdown",
   "metadata": {},
   "source": [
    "De acuerdo a la descripción de variables en la página, las columnas P4030S1A1 y P4030S4A1 son las únicas variables numéricas discretas, las demás son continuas. Sin embargo, estas columnas cuentan con valores no numéricos que se deben reemplazar por lo que antes de cambiar el tipo hay que decidir qué hacer con ellos."
   ]
  },
  {
   "cell_type": "code",
   "execution_count": 7,
   "metadata": {},
   "outputs": [],
   "source": [
    "def cambiara_int(condiVida):\n",
    "    condiVida[\"P4030S1A1\"]=condiVida[\"P4030S1A1\"].astype(int)\n",
    "    condiVida[\"P4030S4A1\"]=condiVida[\"P4030S4A1\"].astype(int)"
   ]
  },
  {
   "cell_type": "markdown",
   "metadata": {},
   "source": [
    "## Datos duplicados"
   ]
  },
  {
   "cell_type": "code",
   "execution_count": 8,
   "metadata": {},
   "outputs": [
    {
     "name": "stdout",
     "output_type": "stream",
     "text": [
      "0\n"
     ]
    },
    {
     "data": {
      "text/html": [
       "<div>\n",
       "<style scoped>\n",
       "    .dataframe tbody tr th:only-of-type {\n",
       "        vertical-align: middle;\n",
       "    }\n",
       "\n",
       "    .dataframe tbody tr th {\n",
       "        vertical-align: top;\n",
       "    }\n",
       "\n",
       "    .dataframe thead th {\n",
       "        text-align: right;\n",
       "    }\n",
       "</style>\n",
       "<table border=\"1\" class=\"dataframe\">\n",
       "  <thead>\n",
       "    <tr style=\"text-align: right;\">\n",
       "      <th></th>\n",
       "      <th>DIRECTORIO</th>\n",
       "      <th>FEX_C</th>\n",
       "      <th>REGION</th>\n",
       "      <th>DIA_REFERENCIA_2</th>\n",
       "      <th>clase</th>\n",
       "      <th>P424</th>\n",
       "      <th>P4030S1</th>\n",
       "      <th>P4030S1A1</th>\n",
       "      <th>P4030S5</th>\n",
       "      <th>P4030S3</th>\n",
       "      <th>P4030S4</th>\n",
       "      <th>P4030S4A1</th>\n",
       "      <th>P4030S2</th>\n",
       "      <th>P4020</th>\n",
       "    </tr>\n",
       "  </thead>\n",
       "  <tbody>\n",
       "  </tbody>\n",
       "</table>\n",
       "</div>"
      ],
      "text/plain": [
       "Empty DataFrame\n",
       "Columns: [DIRECTORIO, FEX_C, REGION, DIA_REFERENCIA_2, clase, P424, P4030S1, P4030S1A1, P4030S5, P4030S3, P4030S4, P4030S4A1, P4030S2, P4020]\n",
       "Index: []"
      ]
     },
     "execution_count": 8,
     "metadata": {},
     "output_type": "execute_result"
    }
   ],
   "source": [
    "duplicados = condiVida.duplicated().sum()\n",
    "print(duplicados)\n",
    "condiVida[condiVida.duplicated()]"
   ]
  },
  {
   "cell_type": "markdown",
   "metadata": {},
   "source": [
    "## Datos faltantes"
   ]
  },
  {
   "cell_type": "code",
   "execution_count": 9,
   "metadata": {},
   "outputs": [],
   "source": [
    "def missing_values_table(df): \n",
    "        mis_val = df.isnull().sum()\n",
    "        mis_val_percent = 100 * df.isnull().sum()/len(df)\n",
    "        mis_val_table = pd.concat([mis_val, mis_val_percent], axis=1)\n",
    "        mis_val_table_ren_columns = mis_val_table.rename(\n",
    "        columns = {0 : 'Missing Values', 1 : '% of Total Values'})\n",
    "        return mis_val_table_ren_columns "
   ]
  },
  {
   "cell_type": "code",
   "execution_count": 10,
   "metadata": {},
   "outputs": [
    {
     "data": {
      "text/html": [
       "<div>\n",
       "<style scoped>\n",
       "    .dataframe tbody tr th:only-of-type {\n",
       "        vertical-align: middle;\n",
       "    }\n",
       "\n",
       "    .dataframe tbody tr th {\n",
       "        vertical-align: top;\n",
       "    }\n",
       "\n",
       "    .dataframe thead th {\n",
       "        text-align: right;\n",
       "    }\n",
       "</style>\n",
       "<table border=\"1\" class=\"dataframe\">\n",
       "  <thead>\n",
       "    <tr style=\"text-align: right;\">\n",
       "      <th></th>\n",
       "      <th>Missing Values</th>\n",
       "      <th>% of Total Values</th>\n",
       "    </tr>\n",
       "  </thead>\n",
       "  <tbody>\n",
       "    <tr>\n",
       "      <th>DIRECTORIO</th>\n",
       "      <td>0</td>\n",
       "      <td>0.000000</td>\n",
       "    </tr>\n",
       "    <tr>\n",
       "      <th>FEX_C</th>\n",
       "      <td>0</td>\n",
       "      <td>0.000000</td>\n",
       "    </tr>\n",
       "    <tr>\n",
       "      <th>REGION</th>\n",
       "      <td>0</td>\n",
       "      <td>0.000000</td>\n",
       "    </tr>\n",
       "    <tr>\n",
       "      <th>DIA_REFERENCIA_2</th>\n",
       "      <td>0</td>\n",
       "      <td>0.000000</td>\n",
       "    </tr>\n",
       "    <tr>\n",
       "      <th>clase</th>\n",
       "      <td>0</td>\n",
       "      <td>0.000000</td>\n",
       "    </tr>\n",
       "    <tr>\n",
       "      <th>P424</th>\n",
       "      <td>0</td>\n",
       "      <td>0.000000</td>\n",
       "    </tr>\n",
       "    <tr>\n",
       "      <th>P4030S1</th>\n",
       "      <td>0</td>\n",
       "      <td>0.000000</td>\n",
       "    </tr>\n",
       "    <tr>\n",
       "      <th>P4030S1A1</th>\n",
       "      <td>872</td>\n",
       "      <td>2.062197</td>\n",
       "    </tr>\n",
       "    <tr>\n",
       "      <th>P4030S5</th>\n",
       "      <td>0</td>\n",
       "      <td>0.000000</td>\n",
       "    </tr>\n",
       "    <tr>\n",
       "      <th>P4030S3</th>\n",
       "      <td>0</td>\n",
       "      <td>0.000000</td>\n",
       "    </tr>\n",
       "    <tr>\n",
       "      <th>P4030S4</th>\n",
       "      <td>0</td>\n",
       "      <td>0.000000</td>\n",
       "    </tr>\n",
       "    <tr>\n",
       "      <th>P4030S4A1</th>\n",
       "      <td>7267</td>\n",
       "      <td>17.185763</td>\n",
       "    </tr>\n",
       "    <tr>\n",
       "      <th>P4030S2</th>\n",
       "      <td>0</td>\n",
       "      <td>0.000000</td>\n",
       "    </tr>\n",
       "    <tr>\n",
       "      <th>P4020</th>\n",
       "      <td>0</td>\n",
       "      <td>0.000000</td>\n",
       "    </tr>\n",
       "  </tbody>\n",
       "</table>\n",
       "</div>"
      ],
      "text/plain": [
       "                  Missing Values  % of Total Values\n",
       "DIRECTORIO                     0           0.000000\n",
       "FEX_C                          0           0.000000\n",
       "REGION                         0           0.000000\n",
       "DIA_REFERENCIA_2               0           0.000000\n",
       "clase                          0           0.000000\n",
       "P424                           0           0.000000\n",
       "P4030S1                        0           0.000000\n",
       "P4030S1A1                    872           2.062197\n",
       "P4030S5                        0           0.000000\n",
       "P4030S3                        0           0.000000\n",
       "P4030S4                        0           0.000000\n",
       "P4030S4A1                   7267          17.185763\n",
       "P4030S2                        0           0.000000\n",
       "P4020                          0           0.000000"
      ]
     },
     "execution_count": 10,
     "metadata": {},
     "output_type": "execute_result"
    }
   ],
   "source": [
    "missing_values_table(condiVida)"
   ]
  },
  {
   "cell_type": "markdown",
   "metadata": {},
   "source": [
    "La mayoría de columnas no tienen valores nulos. Sin embargo, las columnas P4030S1A1 y P4030S4A1 cuentan con valores nulos, la columna P4030S4A1 corresponde de acuerdo al diccionario a el número de días por semana que se realiza la recolección de basuras"
   ]
  },
  {
   "cell_type": "code",
   "execution_count": 11,
   "metadata": {
    "scrolled": true
   },
   "outputs": [
    {
     "data": {
      "image/png": "[encoded data removed]",
      "text/plain": [
       "<Figure size 576x396 with 1 Axes>"
      ]
     },
     "metadata": {},
     "output_type": "display_data"
    }
   ],
   "source": [
    "x = (condiVida['P4030S4A1'].value_counts()*100/len(condiVida)).plot(kind='bar')"
   ]
  },
  {
   "cell_type": "markdown",
   "metadata": {},
   "source": [
    "Mientras que la columna P4030S1A1 corresponde al estrato para la tarifa de la energía eléctrica"
   ]
  },
  {
   "cell_type": "code",
   "execution_count": 12,
   "metadata": {},
   "outputs": [
    {
     "data": {
      "image/png": "[encoded data removed]",
      "text/plain": [
       "<Figure size 576x396 with 1 Axes>"
      ]
     },
     "metadata": {},
     "output_type": "display_data"
    }
   ],
   "source": [
    "x = (condiVida['P4030S1A1'].value_counts()*100/len(condiVida)).plot(kind='bar')"
   ]
  },
  {
   "cell_type": "markdown",
   "metadata": {},
   "source": [
    "Para la columna P4030S1A1 dada la baja cantidad de filas con este valor nulo y la importancia del estrato socioeconómico para los análisis lo mejor es eliminar estas filas, para la columna P4030S4A1 dada la distribución de valores lo mejor sería reemplazar los valores faltantes con la moda (3.0)"
   ]
  },
  {
   "cell_type": "code",
   "execution_count": 14,
   "metadata": {},
   "outputs": [
    {
     "data": {
      "text/html": [
       "<div>\n",
       "<style scoped>\n",
       "    .dataframe tbody tr th:only-of-type {\n",
       "        vertical-align: middle;\n",
       "    }\n",
       "\n",
       "    .dataframe tbody tr th {\n",
       "        vertical-align: top;\n",
       "    }\n",
       "\n",
       "    .dataframe thead th {\n",
       "        text-align: right;\n",
       "    }\n",
       "</style>\n",
       "<table border=\"1\" class=\"dataframe\">\n",
       "  <thead>\n",
       "    <tr style=\"text-align: right;\">\n",
       "      <th></th>\n",
       "      <th>Missing Values</th>\n",
       "      <th>% of Total Values</th>\n",
       "    </tr>\n",
       "  </thead>\n",
       "  <tbody>\n",
       "    <tr>\n",
       "      <th>DIRECTORIO</th>\n",
       "      <td>0</td>\n",
       "      <td>0.0</td>\n",
       "    </tr>\n",
       "    <tr>\n",
       "      <th>FEX_C</th>\n",
       "      <td>0</td>\n",
       "      <td>0.0</td>\n",
       "    </tr>\n",
       "    <tr>\n",
       "      <th>REGION</th>\n",
       "      <td>0</td>\n",
       "      <td>0.0</td>\n",
       "    </tr>\n",
       "    <tr>\n",
       "      <th>DIA_REFERENCIA_2</th>\n",
       "      <td>0</td>\n",
       "      <td>0.0</td>\n",
       "    </tr>\n",
       "    <tr>\n",
       "      <th>clase</th>\n",
       "      <td>0</td>\n",
       "      <td>0.0</td>\n",
       "    </tr>\n",
       "    <tr>\n",
       "      <th>P424</th>\n",
       "      <td>0</td>\n",
       "      <td>0.0</td>\n",
       "    </tr>\n",
       "    <tr>\n",
       "      <th>P4030S1</th>\n",
       "      <td>0</td>\n",
       "      <td>0.0</td>\n",
       "    </tr>\n",
       "    <tr>\n",
       "      <th>P4030S1A1</th>\n",
       "      <td>0</td>\n",
       "      <td>0.0</td>\n",
       "    </tr>\n",
       "    <tr>\n",
       "      <th>P4030S5</th>\n",
       "      <td>0</td>\n",
       "      <td>0.0</td>\n",
       "    </tr>\n",
       "    <tr>\n",
       "      <th>P4030S3</th>\n",
       "      <td>0</td>\n",
       "      <td>0.0</td>\n",
       "    </tr>\n",
       "    <tr>\n",
       "      <th>P4030S4</th>\n",
       "      <td>0</td>\n",
       "      <td>0.0</td>\n",
       "    </tr>\n",
       "    <tr>\n",
       "      <th>P4030S4A1</th>\n",
       "      <td>0</td>\n",
       "      <td>0.0</td>\n",
       "    </tr>\n",
       "    <tr>\n",
       "      <th>P4030S2</th>\n",
       "      <td>0</td>\n",
       "      <td>0.0</td>\n",
       "    </tr>\n",
       "    <tr>\n",
       "      <th>P4020</th>\n",
       "      <td>0</td>\n",
       "      <td>0.0</td>\n",
       "    </tr>\n",
       "  </tbody>\n",
       "</table>\n",
       "</div>"
      ],
      "text/plain": [
       "                  Missing Values  % of Total Values\n",
       "DIRECTORIO                     0                0.0\n",
       "FEX_C                          0                0.0\n",
       "REGION                         0                0.0\n",
       "DIA_REFERENCIA_2               0                0.0\n",
       "clase                          0                0.0\n",
       "P424                           0                0.0\n",
       "P4030S1                        0                0.0\n",
       "P4030S1A1                      0                0.0\n",
       "P4030S5                        0                0.0\n",
       "P4030S3                        0                0.0\n",
       "P4030S4                        0                0.0\n",
       "P4030S4A1                      0                0.0\n",
       "P4030S2                        0                0.0\n",
       "P4020                          0                0.0"
      ]
     },
     "execution_count": 14,
     "metadata": {},
     "output_type": "execute_result"
    }
   ],
   "source": [
    "condiVida.dropna(axis=0, subset=['P4030S1A1'],inplace=True)\n",
    "condiVida['P4030S4A1'] = condiVida['P4030S4A1'].fillna(condiVida['P4030S4A1'].mode()[0])\n",
    "missing_values_table(condiVida)"
   ]
  },
  {
   "cell_type": "markdown",
   "metadata": {},
   "source": [
    "## Análisis valores de las variables\n",
    "Si una variable contiene valores no lógicos lo primero que haría sobre la base de datos sería mirar los datos de las filas con estos valores de manera que se pueda identificar si el error fue intencionado o no, si no lo fue tratar de mirar una forma de corregirlo de acuerdo al valor allí presente, en caso de no poderse dependría de la importancia de la variable para los análisis el desechar la fila o no."
   ]
  },
  {
   "cell_type": "code",
   "execution_count": null,
   "metadata": {},
   "outputs": [],
   "source": []
  }
 ],
 "metadata": {
  "kernelspec": {
   "display_name": "Python 3",
   "language": "python",
   "name": "python3"
  }
 },
 "nbformat": 4,
 "nbformat_minor": 4
}
